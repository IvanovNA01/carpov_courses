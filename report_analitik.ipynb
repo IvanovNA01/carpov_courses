{
 "cells": [
  {
   "cell_type": "code",
   "execution_count": 1,
   "id": "272c2257-2a11-453c-9f0f-a2b191466757",
   "metadata": {},
   "outputs": [],
   "source": [
    "import telegram\n",
    "import numpy as np\n",
    "import matplotlib.pyplot as plt\n",
    "import seaborn as sns\n",
    "import io\n",
    "import logging\n",
    "import pandas as pd\n",
    "import pandahouse\n",
    "import os\n",
    "import datetime as dt\n",
    "\n",
    "#sns.set(rc={'figure.figsize':(19, 13), 'axes.titlesize':16, 'axes.labelsize':14, 'xtick.labelsize':12, 'ytick.labelsize':12,'axes.titlepad': 30 })\n",
    "\n",
    "connection = {\n",
    "    'host': 'https://clickhouse.lab.karpov.courses',\n",
    "    'password': 'dpo_python_2020',\n",
    "    'user': 'student',\n",
    "    'database': 'simulator_20220220'\n",
    "}"
   ]
  },
  {
   "cell_type": "code",
   "execution_count": 2,
   "id": "2b6a15b3-5cc1-48fa-a645-09103f3ec1e6",
   "metadata": {},
   "outputs": [],
   "source": [
    "bot = telegram.Bot(token = '5291500178:AAFQqAVPSG4ad90QdyE-IaZH-Ai8ow2oxFs')\n",
    "#updates = bot.getUpdates()\n",
    "#print(updates[-1])"
   ]
  },
  {
   "cell_type": "code",
   "execution_count": 3,
   "id": "fd706258-4e9c-4bbd-81f2-e7ae24a0929c",
   "metadata": {},
   "outputs": [],
   "source": [
    "#chat_id = 1295860693\n",
    "chat_id = -1001735251250"
   ]
  },
  {
   "cell_type": "code",
   "execution_count": 4,
   "id": "7623595c-a820-4546-b760-67072027d6cf",
   "metadata": {},
   "outputs": [],
   "source": [
    "q = 'select toDate(time) as date, user_id, action  from simulator_20220220.feed_actions where toDate(time) > today()-8 and toDate(time) < today()'\n",
    "\n",
    "df_feed = pandahouse.read_clickhouse(q, connection=connection)"
   ]
  },
  {
   "cell_type": "code",
   "execution_count": 5,
   "id": "95122f98-b904-4d01-9bf0-3e6b190717b1",
   "metadata": {},
   "outputs": [],
   "source": []
  },
  {
   "cell_type": "code",
   "execution_count": 6,
   "id": "2743282b-8a7b-4b7c-ad97-356b0f5649d4",
   "metadata": {},
   "outputs": [
    {
     "data": {
      "text/html": [
       "<div>\n",
       "<style scoped>\n",
       "    .dataframe tbody tr th:only-of-type {\n",
       "        vertical-align: middle;\n",
       "    }\n",
       "\n",
       "    .dataframe tbody tr th {\n",
       "        vertical-align: top;\n",
       "    }\n",
       "\n",
       "    .dataframe thead th {\n",
       "        text-align: right;\n",
       "    }\n",
       "</style>\n",
       "<table border=\"1\" class=\"dataframe\">\n",
       "  <thead>\n",
       "    <tr style=\"text-align: right;\">\n",
       "      <th></th>\n",
       "      <th>date</th>\n",
       "      <th>user_id</th>\n",
       "      <th>action</th>\n",
       "    </tr>\n",
       "  </thead>\n",
       "  <tbody>\n",
       "    <tr>\n",
       "      <th>0</th>\n",
       "      <td>2022-03-22</td>\n",
       "      <td>63830</td>\n",
       "      <td>view</td>\n",
       "    </tr>\n",
       "    <tr>\n",
       "      <th>1</th>\n",
       "      <td>2022-03-22</td>\n",
       "      <td>126860</td>\n",
       "      <td>view</td>\n",
       "    </tr>\n",
       "    <tr>\n",
       "      <th>2</th>\n",
       "      <td>2022-03-22</td>\n",
       "      <td>128603</td>\n",
       "      <td>view</td>\n",
       "    </tr>\n",
       "    <tr>\n",
       "      <th>3</th>\n",
       "      <td>2022-03-22</td>\n",
       "      <td>130058</td>\n",
       "      <td>view</td>\n",
       "    </tr>\n",
       "    <tr>\n",
       "      <th>4</th>\n",
       "      <td>2022-03-22</td>\n",
       "      <td>147928</td>\n",
       "      <td>view</td>\n",
       "    </tr>\n",
       "    <tr>\n",
       "      <th>...</th>\n",
       "      <td>...</td>\n",
       "      <td>...</td>\n",
       "      <td>...</td>\n",
       "    </tr>\n",
       "    <tr>\n",
       "      <th>5075597</th>\n",
       "      <td>2022-03-26</td>\n",
       "      <td>17243</td>\n",
       "      <td>like</td>\n",
       "    </tr>\n",
       "    <tr>\n",
       "      <th>5075598</th>\n",
       "      <td>2022-03-26</td>\n",
       "      <td>32723</td>\n",
       "      <td>view</td>\n",
       "    </tr>\n",
       "    <tr>\n",
       "      <th>5075599</th>\n",
       "      <td>2022-03-26</td>\n",
       "      <td>53128</td>\n",
       "      <td>view</td>\n",
       "    </tr>\n",
       "    <tr>\n",
       "      <th>5075600</th>\n",
       "      <td>2022-03-26</td>\n",
       "      <td>54439</td>\n",
       "      <td>view</td>\n",
       "    </tr>\n",
       "    <tr>\n",
       "      <th>5075601</th>\n",
       "      <td>2022-03-26</td>\n",
       "      <td>57701</td>\n",
       "      <td>view</td>\n",
       "    </tr>\n",
       "  </tbody>\n",
       "</table>\n",
       "<p>5075602 rows × 3 columns</p>\n",
       "</div>"
      ],
      "text/plain": [
       "              date  user_id action\n",
       "0       2022-03-22    63830   view\n",
       "1       2022-03-22   126860   view\n",
       "2       2022-03-22   128603   view\n",
       "3       2022-03-22   130058   view\n",
       "4       2022-03-22   147928   view\n",
       "...            ...      ...    ...\n",
       "5075597 2022-03-26    17243   like\n",
       "5075598 2022-03-26    32723   view\n",
       "5075599 2022-03-26    53128   view\n",
       "5075600 2022-03-26    54439   view\n",
       "5075601 2022-03-26    57701   view\n",
       "\n",
       "[5075602 rows x 3 columns]"
      ]
     },
     "execution_count": 6,
     "metadata": {},
     "output_type": "execute_result"
    }
   ],
   "source": [
    "df_feed"
   ]
  },
  {
   "cell_type": "code",
   "execution_count": 13,
   "id": "e4f5d3c4-c506-4732-9114-4217c53fa26d",
   "metadata": {},
   "outputs": [],
   "source": [
    "#!!! REPORT TO FEED !!!"
   ]
  },
  {
   "cell_type": "code",
   "execution_count": 7,
   "id": "409082ee-164e-4392-8ad4-ffeb82e88dc6",
   "metadata": {},
   "outputs": [],
   "source": [
    "DAU = df_feed.groupby('date', as_index = False).user_id.nunique().rename(columns={'user_id':'DAU'})\n",
    "Likes = df_feed.loc[df_feed.action == 'like'].groupby('date', as_index = False).user_id.count().rename(columns={'user_id':'likes'})\n",
    "Views = df_feed.loc[df_feed.action == 'view'].groupby('date', as_index = False).user_id.count().rename(columns={'user_id':'views'})"
   ]
  },
  {
   "cell_type": "code",
   "execution_count": 8,
   "id": "8ef511f6-b3f5-468f-a067-751f5dc2288c",
   "metadata": {},
   "outputs": [],
   "source": [
    "report_metrics = DAU.merge(Likes).merge(Views)"
   ]
  },
  {
   "cell_type": "code",
   "execution_count": 9,
   "id": "9e91838c-a9c5-41d9-ae01-a0c88484103b",
   "metadata": {},
   "outputs": [],
   "source": [
    "report_metrics['CTR_%'] = round(report_metrics.likes*100/report_metrics.views,2)\n",
    "#разворачиваем, чтобы 1 была вчерашняя дата\n",
    "invers_report_metrics = report_metrics.sort_values('date', ascending=False)\n",
    "#сохраняем данные за вчерашнюю дату\n",
    "yesterday_report_metrics = invers_report_metrics.iloc[0, :]\n",
    "#находим процентное отношение остальных дат к вчерашней\n",
    "invers_report_metrics.iloc[:, 1:] = (invers_report_metrics.iloc[:, 1:] - invers_report_metrics.iloc[0, 1:].values.squeeze())\\\n",
    "                                        .div(invers_report_metrics.iloc[:, 1:])\n",
    "#восстанавливаем значения за вчера\n",
    "for i in range(len(yesterday_report_metrics)):\n",
    "    invers_report_metrics.iloc[0, i] =yesterday_report_metrics[i]\n",
    "#переводим в проценты и строки\n",
    "invers_report_metrics.iloc[1:, 1:] = invers_report_metrics.iloc[1:, 1:].multiply(100).astype(float).round(2).astype(str) + '%'\n",
    "invers_report_metrics['date']=invers_report_metrics['date'].astype(str)"
   ]
  },
  {
   "cell_type": "code",
   "execution_count": 10,
   "id": "18801ee5-6084-4539-ba4a-bbb9f2c5403f",
   "metadata": {},
   "outputs": [
    {
     "name": "stderr",
     "output_type": "stream",
     "text": [
      "/tmp/ipykernel_107/1223561951.py:1: FutureWarning: In a future version of pandas all arguments of DataFrame.drop except for the argument 'labels' will be keyword-only\n",
      "  value_metrics = invers_report_metrics.drop([1,2,3,4],0).values\n"
     ]
    }
   ],
   "source": [
    "value_metrics = invers_report_metrics.drop([1,2,3,4],0).values\n",
    "name_metrics = report_metrics.columns.values\n",
    "row_Labels = ['yesterday','1 day ago','1 week ago']"
   ]
  },
  {
   "cell_type": "code",
   "execution_count": 11,
   "id": "7f3ea3c4-0461-4d4c-a106-08b321e6b656",
   "metadata": {},
   "outputs": [
    {
     "data": {
      "text/plain": [
       "<telegram.message.Message at 0x7f372513a440>"
      ]
     },
     "execution_count": 11,
     "metadata": {},
     "output_type": "execute_result"
    }
   ],
   "source": [
    "# send message to telegram\n",
    "message = 'Отчет за {v0} по значениям продуктовых метрик: \\nDAU, likes, views, CTR. \\nТакже добавлены данные на день и неделю раньше, в процентном отношении от вчерашней даты.'\\\n",
    "        .format(v0 = value_metrics[0][0])\n",
    "message = message + '\\nСсылка на основной <a href=\\\"https://superset.lab.karpov.courses/superset/dashboard/327/\\\">дашборд!</a>'\n",
    "bot.sendMessage(chat_id=chat_id, text=message, parse_mode = 'HTML')"
   ]
  },
  {
   "cell_type": "code",
   "execution_count": 12,
   "id": "aff91c4c-3304-42e9-bc31-bca1b88b81b8",
   "metadata": {},
   "outputs": [
    {
     "data": {
      "text/plain": [
       "<telegram.message.Message at 0x7f3725041a40>"
      ]
     },
     "execution_count": 12,
     "metadata": {},
     "output_type": "execute_result"
    }
   ],
   "source": [
    "sns.set(rc={'figure.figsize':(10,8), 'axes.titlesize':16, 'axes.labelsize':14, 'xtick.labelsize':12, 'ytick.labelsize':12,'axes.titlepad': 30 })\n",
    "#создаем таблицу\n",
    "fig, ax = plt.subplots() \n",
    "\n",
    "plt.title('Таблица значений продуктовых метрик за вчера.')\n",
    "table = ax.table( \n",
    "    cellText = value_metrics,  \n",
    "    rowLabels = row_Labels,  \n",
    "    colLabels = name_metrics, \n",
    "    rowColours =[\"steelblue\"] * 10,  \n",
    "    colColours =[\"steelblue\"] * 10, \n",
    "    cellLoc ='center',  \n",
    "    loc ='upper left') \n",
    "#настройка размера ячеек\n",
    "ax.axis(\"off\") \n",
    "table.auto_set_font_size(False)\n",
    "table.set_fontsize(15) \n",
    "table.auto_set_column_width(col=list(range(len(report_metrics.columns))))\n",
    "\n",
    "for row in range(1, len(row_Labels)+1):\n",
    "    cell = table[row, -1]\n",
    "    cell.set_height(0.1)\n",
    "for col in range(0, len(name_metrics)):\n",
    "    for row in range(0, len(row_Labels)+1):\n",
    "        cell = table[row, col]\n",
    "        cell.set_height(0.1)\n",
    "plot_object = io.BytesIO()\n",
    "plt.savefig(plot_object)\n",
    "plot_object.seek(0)\n",
    "plot_object.name = 'Table_metrics.png'\n",
    "plt.close()\n",
    "bot.sendPhoto(chat_id=chat_id, photo=plot_object)"
   ]
  },
  {
   "cell_type": "code",
   "execution_count": 13,
   "id": "4446f4c8-b9a4-4ca2-9210-167bcf53fc0a",
   "metadata": {},
   "outputs": [
    {
     "data": {
      "text/plain": [
       "<telegram.message.Message at 0x7f3725041840>"
      ]
     },
     "execution_count": 13,
     "metadata": {},
     "output_type": "execute_result"
    }
   ],
   "source": [
    "sns.set(rc={'figure.figsize':(19, 13), 'axes.titlesize':16, 'axes.labelsize':14, 'xtick.labelsize':12, 'ytick.labelsize':12,'axes.titlepad': 30 })\n",
    "# создание и посылка группы графиков\n",
    "fig, axs = plt.subplots(2, 2)\n",
    "number=0\n",
    "for i in range(0,len(axs)):\n",
    "    for j in range(0,len(axs)):\n",
    "        number+=1\n",
    "        axs[i, j].plot('date', name_metrics[number], data = report_metrics)\n",
    "        axs[i, j].set_title('{v}'.format(v=name_metrics[number]))\n",
    "        \n",
    "plot_object = io.BytesIO()\n",
    "plt.savefig(plot_object)\n",
    "plot_object.seek(0)\n",
    "plot_object.name = 'graph_metrics.png'\n",
    "plt.close()\n",
    "bot.sendPhoto(chat_id=chat_id, photo=plot_object)"
   ]
  },
  {
   "cell_type": "code",
   "execution_count": 14,
   "id": "3553784d-65a4-4145-891d-b1e0cb43cc7f",
   "metadata": {},
   "outputs": [
    {
     "data": {
      "text/plain": [
       "<telegram.message.Message at 0x7f3724f4d040>"
      ]
     },
     "execution_count": 14,
     "metadata": {},
     "output_type": "execute_result"
    }
   ],
   "source": [
    "#посылка цсв файла ДФ\n",
    "file_object = io.StringIO()\n",
    "report_metrics.to_csv(file_object)\n",
    "file_object.name = 'report_metrics.csv'\n",
    "file_object.seek(0)\n",
    "bot.sendDocument(chat_id=chat_id, document=file_object)"
   ]
  },
  {
   "cell_type": "code",
   "execution_count": 15,
   "id": "6843f97e-2a89-4108-a53f-5705d2872ba1",
   "metadata": {},
   "outputs": [],
   "source": [
    "q = 'select toDate(time) as date, user_id, reciever_id  from simulator_20220220.message_actions where toDate(time) > today()-8 and toDate(time) < today()'\n",
    "\n",
    "df_mess = pandahouse.read_clickhouse(q, connection=connection)"
   ]
  },
  {
   "cell_type": "code",
   "execution_count": 16,
   "id": "7dcd459a-1bde-40c0-aae1-79185a348a7b",
   "metadata": {},
   "outputs": [
    {
     "data": {
      "text/html": [
       "<div>\n",
       "<style scoped>\n",
       "    .dataframe tbody tr th:only-of-type {\n",
       "        vertical-align: middle;\n",
       "    }\n",
       "\n",
       "    .dataframe tbody tr th {\n",
       "        vertical-align: top;\n",
       "    }\n",
       "\n",
       "    .dataframe thead th {\n",
       "        text-align: right;\n",
       "    }\n",
       "</style>\n",
       "<table border=\"1\" class=\"dataframe\">\n",
       "  <thead>\n",
       "    <tr style=\"text-align: right;\">\n",
       "      <th></th>\n",
       "      <th>date</th>\n",
       "      <th>user_id</th>\n",
       "      <th>reciever_id</th>\n",
       "    </tr>\n",
       "  </thead>\n",
       "  <tbody>\n",
       "    <tr>\n",
       "      <th>0</th>\n",
       "      <td>2022-03-23</td>\n",
       "      <td>13116</td>\n",
       "      <td>17622</td>\n",
       "    </tr>\n",
       "    <tr>\n",
       "      <th>1</th>\n",
       "      <td>2022-03-23</td>\n",
       "      <td>19598</td>\n",
       "      <td>120551</td>\n",
       "    </tr>\n",
       "    <tr>\n",
       "      <th>2</th>\n",
       "      <td>2022-03-23</td>\n",
       "      <td>114604</td>\n",
       "      <td>17622</td>\n",
       "    </tr>\n",
       "    <tr>\n",
       "      <th>3</th>\n",
       "      <td>2022-03-23</td>\n",
       "      <td>123681</td>\n",
       "      <td>110894</td>\n",
       "    </tr>\n",
       "    <tr>\n",
       "      <th>4</th>\n",
       "      <td>2022-03-23</td>\n",
       "      <td>123681</td>\n",
       "      <td>118611</td>\n",
       "    </tr>\n",
       "    <tr>\n",
       "      <th>...</th>\n",
       "      <td>...</td>\n",
       "      <td>...</td>\n",
       "      <td>...</td>\n",
       "    </tr>\n",
       "    <tr>\n",
       "      <th>109633</th>\n",
       "      <td>2022-03-26</td>\n",
       "      <td>116766</td>\n",
       "      <td>123242</td>\n",
       "    </tr>\n",
       "    <tr>\n",
       "      <th>109634</th>\n",
       "      <td>2022-03-26</td>\n",
       "      <td>117388</td>\n",
       "      <td>15488</td>\n",
       "    </tr>\n",
       "    <tr>\n",
       "      <th>109635</th>\n",
       "      <td>2022-03-26</td>\n",
       "      <td>124057</td>\n",
       "      <td>113214</td>\n",
       "    </tr>\n",
       "    <tr>\n",
       "      <th>109636</th>\n",
       "      <td>2022-03-26</td>\n",
       "      <td>5591</td>\n",
       "      <td>7575</td>\n",
       "    </tr>\n",
       "    <tr>\n",
       "      <th>109637</th>\n",
       "      <td>2022-03-26</td>\n",
       "      <td>14010</td>\n",
       "      <td>123422</td>\n",
       "    </tr>\n",
       "  </tbody>\n",
       "</table>\n",
       "<p>109638 rows × 3 columns</p>\n",
       "</div>"
      ],
      "text/plain": [
       "             date  user_id  reciever_id\n",
       "0      2022-03-23    13116        17622\n",
       "1      2022-03-23    19598       120551\n",
       "2      2022-03-23   114604        17622\n",
       "3      2022-03-23   123681       110894\n",
       "4      2022-03-23   123681       118611\n",
       "...           ...      ...          ...\n",
       "109633 2022-03-26   116766       123242\n",
       "109634 2022-03-26   117388        15488\n",
       "109635 2022-03-26   124057       113214\n",
       "109636 2022-03-26     5591         7575\n",
       "109637 2022-03-26    14010       123422\n",
       "\n",
       "[109638 rows x 3 columns]"
      ]
     },
     "execution_count": 16,
     "metadata": {},
     "output_type": "execute_result"
    }
   ],
   "source": [
    "df_mess"
   ]
  },
  {
   "cell_type": "code",
   "execution_count": 31,
   "id": "7777ca0e-0f68-4d6d-8243-11d59e62f7f4",
   "metadata": {},
   "outputs": [
    {
     "data": {
      "text/plain": [
       "array([ 63830, 126860, 128603, ..., 108218,  75824,  74591], dtype=uint32)"
      ]
     },
     "execution_count": 31,
     "metadata": {},
     "output_type": "execute_result"
    }
   ],
   "source": [
    "unique_users_feed = df_feed.user_id.unique()"
   ]
  },
  {
   "cell_type": "code",
   "execution_count": 19,
   "id": "71f29a5a-efd7-4eae-91fa-905e386ce61c",
   "metadata": {},
   "outputs": [],
   "source": [
    "df_test = df_feed.merge(df_mess, how = 'left', on = ['date','user_id'])"
   ]
  },
  {
   "cell_type": "code",
   "execution_count": 26,
   "id": "c9cc92d6-382d-4923-a535-7ae732c234e1",
   "metadata": {},
   "outputs": [
    {
     "data": {
      "text/html": [
       "<div>\n",
       "<style scoped>\n",
       "    .dataframe tbody tr th:only-of-type {\n",
       "        vertical-align: middle;\n",
       "    }\n",
       "\n",
       "    .dataframe tbody tr th {\n",
       "        vertical-align: top;\n",
       "    }\n",
       "\n",
       "    .dataframe thead th {\n",
       "        text-align: right;\n",
       "    }\n",
       "</style>\n",
       "<table border=\"1\" class=\"dataframe\">\n",
       "  <thead>\n",
       "    <tr style=\"text-align: right;\">\n",
       "      <th></th>\n",
       "      <th>date</th>\n",
       "      <th>user_id</th>\n",
       "    </tr>\n",
       "  </thead>\n",
       "  <tbody>\n",
       "    <tr>\n",
       "      <th>0</th>\n",
       "      <td>2022-03-20</td>\n",
       "      <td>19838</td>\n",
       "    </tr>\n",
       "    <tr>\n",
       "      <th>1</th>\n",
       "      <td>2022-03-21</td>\n",
       "      <td>19540</td>\n",
       "    </tr>\n",
       "    <tr>\n",
       "      <th>2</th>\n",
       "      <td>2022-03-22</td>\n",
       "      <td>19702</td>\n",
       "    </tr>\n",
       "    <tr>\n",
       "      <th>3</th>\n",
       "      <td>2022-03-23</td>\n",
       "      <td>19717</td>\n",
       "    </tr>\n",
       "    <tr>\n",
       "      <th>4</th>\n",
       "      <td>2022-03-24</td>\n",
       "      <td>19741</td>\n",
       "    </tr>\n",
       "    <tr>\n",
       "      <th>5</th>\n",
       "      <td>2022-03-25</td>\n",
       "      <td>19583</td>\n",
       "    </tr>\n",
       "    <tr>\n",
       "      <th>6</th>\n",
       "      <td>2022-03-26</td>\n",
       "      <td>18882</td>\n",
       "    </tr>\n",
       "  </tbody>\n",
       "</table>\n",
       "</div>"
      ],
      "text/plain": [
       "        date  user_id\n",
       "0 2022-03-20    19838\n",
       "1 2022-03-21    19540\n",
       "2 2022-03-22    19702\n",
       "3 2022-03-23    19717\n",
       "4 2022-03-24    19741\n",
       "5 2022-03-25    19583\n",
       "6 2022-03-26    18882"
      ]
     },
     "execution_count": 26,
     "metadata": {},
     "output_type": "execute_result"
    }
   ],
   "source": [
    "df_test.groupby('date', as_index=False).user_id.nunique()"
   ]
  },
  {
   "cell_type": "code",
   "execution_count": 27,
   "id": "8bf6bf96-471b-4763-a637-967212f0fa72",
   "metadata": {},
   "outputs": [
    {
     "data": {
      "text/html": [
       "<div>\n",
       "<style scoped>\n",
       "    .dataframe tbody tr th:only-of-type {\n",
       "        vertical-align: middle;\n",
       "    }\n",
       "\n",
       "    .dataframe tbody tr th {\n",
       "        vertical-align: top;\n",
       "    }\n",
       "\n",
       "    .dataframe thead th {\n",
       "        text-align: right;\n",
       "    }\n",
       "</style>\n",
       "<table border=\"1\" class=\"dataframe\">\n",
       "  <thead>\n",
       "    <tr style=\"text-align: right;\">\n",
       "      <th></th>\n",
       "      <th>date</th>\n",
       "      <th>DAU</th>\n",
       "    </tr>\n",
       "  </thead>\n",
       "  <tbody>\n",
       "    <tr>\n",
       "      <th>0</th>\n",
       "      <td>2022-03-20</td>\n",
       "      <td>19838</td>\n",
       "    </tr>\n",
       "    <tr>\n",
       "      <th>1</th>\n",
       "      <td>2022-03-21</td>\n",
       "      <td>19540</td>\n",
       "    </tr>\n",
       "    <tr>\n",
       "      <th>2</th>\n",
       "      <td>2022-03-22</td>\n",
       "      <td>19702</td>\n",
       "    </tr>\n",
       "    <tr>\n",
       "      <th>3</th>\n",
       "      <td>2022-03-23</td>\n",
       "      <td>19717</td>\n",
       "    </tr>\n",
       "    <tr>\n",
       "      <th>4</th>\n",
       "      <td>2022-03-24</td>\n",
       "      <td>19741</td>\n",
       "    </tr>\n",
       "    <tr>\n",
       "      <th>5</th>\n",
       "      <td>2022-03-25</td>\n",
       "      <td>19583</td>\n",
       "    </tr>\n",
       "    <tr>\n",
       "      <th>6</th>\n",
       "      <td>2022-03-26</td>\n",
       "      <td>18882</td>\n",
       "    </tr>\n",
       "  </tbody>\n",
       "</table>\n",
       "</div>"
      ],
      "text/plain": [
       "        date    DAU\n",
       "0 2022-03-20  19838\n",
       "1 2022-03-21  19540\n",
       "2 2022-03-22  19702\n",
       "3 2022-03-23  19717\n",
       "4 2022-03-24  19741\n",
       "5 2022-03-25  19583\n",
       "6 2022-03-26  18882"
      ]
     },
     "execution_count": 27,
     "metadata": {},
     "output_type": "execute_result"
    }
   ],
   "source": [
    "DAU"
   ]
  },
  {
   "cell_type": "code",
   "execution_count": null,
   "id": "6f0879d5-a649-4cec-837e-1ee7643e146f",
   "metadata": {},
   "outputs": [],
   "source": []
  }
 ],
 "metadata": {
  "kernelspec": {
   "display_name": "Python 3 (ipykernel)",
   "language": "python",
   "name": "python3"
  },
  "language_info": {
   "codemirror_mode": {
    "name": "ipython",
    "version": 3
   },
   "file_extension": ".py",
   "mimetype": "text/x-python",
   "name": "python",
   "nbconvert_exporter": "python",
   "pygments_lexer": "ipython3",
   "version": "3.8.10"
  }
 },
 "nbformat": 4,
 "nbformat_minor": 5
}
