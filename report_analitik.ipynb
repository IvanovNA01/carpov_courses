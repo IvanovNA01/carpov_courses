{
 "cells": [
  {
   "cell_type": "code",
   "execution_count": 40,
   "id": "272c2257-2a11-453c-9f0f-a2b191466757",
   "metadata": {},
   "outputs": [],
   "source": [
    "import telegram\n",
    "import numpy as np\n",
    "import matplotlib.pyplot as plt\n",
    "import seaborn as sns\n",
    "import io\n",
    "import logging\n",
    "import pandas as pd\n",
    "import pandahouse\n",
    "import os\n",
    "import datetime as dt\n",
    "\n",
    "#sns.set(rc={'figure.figsize':(19, 13), 'axes.titlesize':16, 'axes.labelsize':14, 'xtick.labelsize':12, 'ytick.labelsize':12,'axes.titlepad': 30 })\n",
    "\n",
    "connection = {\n",
    "    'host': 'https://clickhouse.lab.karpov.courses',\n",
    "    'password': 'dpo_python_2020',\n",
    "    'user': 'student',\n",
    "    'database': 'simulator_20220220'\n",
    "}"
   ]
  },
  {
   "cell_type": "code",
   "execution_count": 41,
   "id": "2b6a15b3-5cc1-48fa-a645-09103f3ec1e6",
   "metadata": {},
   "outputs": [],
   "source": [
    "bot = telegram.Bot(token = '5291500178:AAFQqAVPSG4ad90QdyE-IaZH-Ai8ow2oxFs')\n",
    "#updates = bot.getUpdates()\n",
    "#print(updates[-1])"
   ]
  },
  {
   "cell_type": "code",
   "execution_count": 42,
   "id": "fd706258-4e9c-4bbd-81f2-e7ae24a0929c",
   "metadata": {},
   "outputs": [],
   "source": [
    "#chat_id = 1295860693\n",
    "chat_id = -1001735251250"
   ]
  },
  {
   "cell_type": "code",
   "execution_count": 43,
   "id": "7623595c-a820-4546-b760-67072027d6cf",
   "metadata": {},
   "outputs": [],
   "source": [
    "q = 'select toDate(time) as date, user_id, action  from simulator_20220220.feed_actions where toDate(time) > today()-8 and toDate(time) < today()'\n",
    "\n",
    "df_feed = pandahouse.read_clickhouse(q, connection=connection)"
   ]
  },
  {
   "cell_type": "code",
   "execution_count": 44,
   "id": "95122f98-b904-4d01-9bf0-3e6b190717b1",
   "metadata": {},
   "outputs": [],
   "source": [
    "q = 'select toDate(time) as date, user_id, reciever_id  from simulator_20220220.message_actions where toDate(time) > today()-8 and toDate(time) < today()'\n",
    "\n",
    "df_mess = pandahouse.read_clickhouse(q, connection=connection)"
   ]
  },
  {
   "cell_type": "code",
   "execution_count": 19,
   "id": "2743282b-8a7b-4b7c-ad97-356b0f5649d4",
   "metadata": {},
   "outputs": [],
   "source": [
    "# FEED AND MESSAGE REPORT"
   ]
  },
  {
   "cell_type": "code",
   "execution_count": 20,
   "id": "e4f5d3c4-c506-4732-9114-4217c53fa26d",
   "metadata": {},
   "outputs": [],
   "source": [
    "# FEED METRICS"
   ]
  },
  {
   "cell_type": "code",
   "execution_count": 45,
   "id": "409082ee-164e-4392-8ad4-ffeb82e88dc6",
   "metadata": {},
   "outputs": [],
   "source": [
    "DAU_FEED = df_feed.groupby('date', as_index = False).user_id.nunique().rename(columns={'user_id':'DAU_FEED'})\n",
    "Likes = df_feed.loc[df_feed.action == 'like'].groupby('date', as_index = False).user_id.count().rename(columns={'user_id':'likes'})\n",
    "Views = df_feed.loc[df_feed.action == 'view'].groupby('date', as_index = False).user_id.count().rename(columns={'user_id':'views'})\n",
    "report_metrics = DAU_FEED.merge(Likes).merge(Views)\n",
    "report_metrics['LPU'] = round(report_metrics.likes/report_metrics.DAU_FEED,2)\n",
    "report_metrics['VPU'] = round(report_metrics.views/report_metrics.DAU_FEED,2)\n",
    "report_metrics['CTR_%'] = round(report_metrics.likes*100/report_metrics.views,2)\n",
    "report_metrics['actions'] = report_metrics.likes+report_metrics.views"
   ]
  },
  {
   "cell_type": "code",
   "execution_count": 49,
   "id": "e7228ba2-94c1-426e-b7bb-80c912a73fd8",
   "metadata": {},
   "outputs": [
    {
     "data": {
      "text/html": [
       "<div>\n",
       "<style scoped>\n",
       "    .dataframe tbody tr th:only-of-type {\n",
       "        vertical-align: middle;\n",
       "    }\n",
       "\n",
       "    .dataframe tbody tr th {\n",
       "        vertical-align: top;\n",
       "    }\n",
       "\n",
       "    .dataframe thead th {\n",
       "        text-align: right;\n",
       "    }\n",
       "</style>\n",
       "<table border=\"1\" class=\"dataframe\">\n",
       "  <thead>\n",
       "    <tr style=\"text-align: right;\">\n",
       "      <th></th>\n",
       "      <th>date</th>\n",
       "      <th>DAU_FEED</th>\n",
       "      <th>likes</th>\n",
       "      <th>views</th>\n",
       "      <th>LPU</th>\n",
       "      <th>VPU</th>\n",
       "      <th>CTR_%</th>\n",
       "      <th>actions</th>\n",
       "    </tr>\n",
       "  </thead>\n",
       "  <tbody>\n",
       "    <tr>\n",
       "      <th>0</th>\n",
       "      <td>2022-03-21</td>\n",
       "      <td>19540</td>\n",
       "      <td>145441</td>\n",
       "      <td>662836</td>\n",
       "      <td>7.44</td>\n",
       "      <td>33.92</td>\n",
       "      <td>21.94</td>\n",
       "      <td>808277</td>\n",
       "    </tr>\n",
       "    <tr>\n",
       "      <th>1</th>\n",
       "      <td>2022-03-22</td>\n",
       "      <td>19702</td>\n",
       "      <td>143682</td>\n",
       "      <td>660814</td>\n",
       "      <td>7.29</td>\n",
       "      <td>33.54</td>\n",
       "      <td>21.74</td>\n",
       "      <td>804496</td>\n",
       "    </tr>\n",
       "    <tr>\n",
       "      <th>2</th>\n",
       "      <td>2022-03-23</td>\n",
       "      <td>19717</td>\n",
       "      <td>120339</td>\n",
       "      <td>589754</td>\n",
       "      <td>6.10</td>\n",
       "      <td>29.91</td>\n",
       "      <td>20.40</td>\n",
       "      <td>710093</td>\n",
       "    </tr>\n",
       "    <tr>\n",
       "      <th>3</th>\n",
       "      <td>2022-03-24</td>\n",
       "      <td>19741</td>\n",
       "      <td>92449</td>\n",
       "      <td>471127</td>\n",
       "      <td>4.68</td>\n",
       "      <td>23.87</td>\n",
       "      <td>19.62</td>\n",
       "      <td>563576</td>\n",
       "    </tr>\n",
       "    <tr>\n",
       "      <th>4</th>\n",
       "      <td>2022-03-25</td>\n",
       "      <td>19583</td>\n",
       "      <td>96204</td>\n",
       "      <td>474993</td>\n",
       "      <td>4.91</td>\n",
       "      <td>24.26</td>\n",
       "      <td>20.25</td>\n",
       "      <td>571197</td>\n",
       "    </tr>\n",
       "    <tr>\n",
       "      <th>5</th>\n",
       "      <td>2022-03-26</td>\n",
       "      <td>18882</td>\n",
       "      <td>137902</td>\n",
       "      <td>650507</td>\n",
       "      <td>7.30</td>\n",
       "      <td>34.45</td>\n",
       "      <td>21.20</td>\n",
       "      <td>788409</td>\n",
       "    </tr>\n",
       "    <tr>\n",
       "      <th>6</th>\n",
       "      <td>2022-03-27</td>\n",
       "      <td>18727</td>\n",
       "      <td>160796</td>\n",
       "      <td>739655</td>\n",
       "      <td>8.59</td>\n",
       "      <td>39.50</td>\n",
       "      <td>21.74</td>\n",
       "      <td>900451</td>\n",
       "    </tr>\n",
       "  </tbody>\n",
       "</table>\n",
       "</div>"
      ],
      "text/plain": [
       "        date  DAU_FEED   likes   views   LPU    VPU  CTR_%  actions\n",
       "0 2022-03-21     19540  145441  662836  7.44  33.92  21.94   808277\n",
       "1 2022-03-22     19702  143682  660814  7.29  33.54  21.74   804496\n",
       "2 2022-03-23     19717  120339  589754  6.10  29.91  20.40   710093\n",
       "3 2022-03-24     19741   92449  471127  4.68  23.87  19.62   563576\n",
       "4 2022-03-25     19583   96204  474993  4.91  24.26  20.25   571197\n",
       "5 2022-03-26     18882  137902  650507  7.30  34.45  21.20   788409\n",
       "6 2022-03-27     18727  160796  739655  8.59  39.50  21.74   900451"
      ]
     },
     "execution_count": 49,
     "metadata": {},
     "output_type": "execute_result"
    }
   ],
   "source": []
  },
  {
   "cell_type": "code",
   "execution_count": null,
   "id": "304c33d6-b13d-474c-a243-1698e909bf79",
   "metadata": {},
   "outputs": [],
   "source": []
  },
  {
   "cell_type": "code",
   "execution_count": 22,
   "id": "8ef511f6-b3f5-468f-a067-751f5dc2288c",
   "metadata": {},
   "outputs": [],
   "source": [
    "# MESSAGE METRICS"
   ]
  },
  {
   "cell_type": "code",
   "execution_count": 50,
   "id": "7e7b0fc0-5e41-4877-a125-1338d6a0f2f8",
   "metadata": {},
   "outputs": [],
   "source": [
    "MESSAGE = df_mess.groupby('date', as_index = False).user_id.count().rename(columns={'user_id':'message'})\n",
    "DAU_MESS = df_mess.groupby('date', as_index=False).user_id.nunique().rename(columns={'user_id':'DAU_MESS'})\n",
    "DAU_FEEDandMESS = df_feed.merge(df_mess, how = 'inner', on = ['date','user_id'])\\\n",
    "                        .groupby('date', as_index=False)\\\n",
    "                        .user_id.nunique()\\\n",
    "                        .rename(columns={'user_id':'DAU_FEEDandMEES'})\n",
    "report_metrics = report_metrics.merge(DAU_FEEDandMESS).merge(MESSAGE).merge(DAU_MESS)\n",
    "report_metrics['MPU']=round(report_metrics.message/report_metrics.DAU_MESS,2)"
   ]
  },
  {
   "cell_type": "code",
   "execution_count": 52,
   "id": "342ff093-3dff-4539-991a-6adcc4121330",
   "metadata": {},
   "outputs": [],
   "source": [
    "report_metrics = report_metrics.reindex(columns=['date', 'likes', 'views','CTR_%', 'DAU_FEED', 'DAU_MESS','DAU_FEEDandMEES', 'actions', 'LPU','VPU', 'message','MPU'])"
   ]
  },
  {
   "cell_type": "code",
   "execution_count": 54,
   "id": "9e91838c-a9c5-41d9-ae01-a0c88484103b",
   "metadata": {},
   "outputs": [],
   "source": [
    "#разворачиваем, чтобы 1 была вчерашняя дата\n",
    "invers_report_metrics = report_metrics.sort_values('date', ascending=False)\n",
    "#сохраняем данные за вчерашнюю дату\n",
    "yesterday_report_metrics = invers_report_metrics.iloc[0, :]\n",
    "#находим процентное отношение остальных дат к вчерашней\n",
    "invers_report_metrics.iloc[:, 1:] = (invers_report_metrics.iloc[:, 1:] - invers_report_metrics.iloc[0, 1:].values.squeeze())\\\n",
    "                                        .div(invers_report_metrics.iloc[:, 1:])\n",
    "#восстанавливаем значения за вчера\n",
    "for i in range(len(yesterday_report_metrics)):\n",
    "    invers_report_metrics.iloc[0, i] =yesterday_report_metrics[i]\n",
    "#переводим в проценты и строки\n",
    "invers_report_metrics.iloc[1:, 1:] = invers_report_metrics.iloc[1:, 1:].multiply(100).astype(float).round(2).astype(str) + '%'\n",
    "invers_report_metrics['date']=invers_report_metrics['date'].astype(str)"
   ]
  },
  {
   "cell_type": "code",
   "execution_count": 55,
   "id": "6579aa9e-1ea5-4a0d-85fa-c2a4902129dc",
   "metadata": {},
   "outputs": [
    {
     "data": {
      "text/html": [
       "<div>\n",
       "<style scoped>\n",
       "    .dataframe tbody tr th:only-of-type {\n",
       "        vertical-align: middle;\n",
       "    }\n",
       "\n",
       "    .dataframe tbody tr th {\n",
       "        vertical-align: top;\n",
       "    }\n",
       "\n",
       "    .dataframe thead th {\n",
       "        text-align: right;\n",
       "    }\n",
       "</style>\n",
       "<table border=\"1\" class=\"dataframe\">\n",
       "  <thead>\n",
       "    <tr style=\"text-align: right;\">\n",
       "      <th></th>\n",
       "      <th>date</th>\n",
       "      <th>likes</th>\n",
       "      <th>views</th>\n",
       "      <th>CTR_%</th>\n",
       "      <th>DAU_FEED</th>\n",
       "      <th>DAU_MESS</th>\n",
       "      <th>DAU_FEEDandMEES</th>\n",
       "      <th>actions</th>\n",
       "      <th>LPU</th>\n",
       "      <th>VPU</th>\n",
       "      <th>message</th>\n",
       "      <th>MPU</th>\n",
       "    </tr>\n",
       "  </thead>\n",
       "  <tbody>\n",
       "    <tr>\n",
       "      <th>0</th>\n",
       "      <td>2022-03-21</td>\n",
       "      <td>145441</td>\n",
       "      <td>662836</td>\n",
       "      <td>21.94</td>\n",
       "      <td>19540</td>\n",
       "      <td>2639</td>\n",
       "      <td>347</td>\n",
       "      <td>808277</td>\n",
       "      <td>7.44</td>\n",
       "      <td>33.92</td>\n",
       "      <td>12900</td>\n",
       "      <td>4.89</td>\n",
       "    </tr>\n",
       "    <tr>\n",
       "      <th>1</th>\n",
       "      <td>2022-03-22</td>\n",
       "      <td>143682</td>\n",
       "      <td>660814</td>\n",
       "      <td>21.74</td>\n",
       "      <td>19702</td>\n",
       "      <td>3747</td>\n",
       "      <td>485</td>\n",
       "      <td>804496</td>\n",
       "      <td>7.29</td>\n",
       "      <td>33.54</td>\n",
       "      <td>32259</td>\n",
       "      <td>8.61</td>\n",
       "    </tr>\n",
       "    <tr>\n",
       "      <th>2</th>\n",
       "      <td>2022-03-23</td>\n",
       "      <td>120339</td>\n",
       "      <td>589754</td>\n",
       "      <td>20.40</td>\n",
       "      <td>19717</td>\n",
       "      <td>2712</td>\n",
       "      <td>353</td>\n",
       "      <td>710093</td>\n",
       "      <td>6.10</td>\n",
       "      <td>29.91</td>\n",
       "      <td>12879</td>\n",
       "      <td>4.75</td>\n",
       "    </tr>\n",
       "    <tr>\n",
       "      <th>3</th>\n",
       "      <td>2022-03-24</td>\n",
       "      <td>92449</td>\n",
       "      <td>471127</td>\n",
       "      <td>19.62</td>\n",
       "      <td>19741</td>\n",
       "      <td>1878</td>\n",
       "      <td>231</td>\n",
       "      <td>563576</td>\n",
       "      <td>4.68</td>\n",
       "      <td>23.87</td>\n",
       "      <td>12900</td>\n",
       "      <td>6.87</td>\n",
       "    </tr>\n",
       "    <tr>\n",
       "      <th>4</th>\n",
       "      <td>2022-03-25</td>\n",
       "      <td>96204</td>\n",
       "      <td>474993</td>\n",
       "      <td>20.25</td>\n",
       "      <td>19583</td>\n",
       "      <td>1831</td>\n",
       "      <td>237</td>\n",
       "      <td>571197</td>\n",
       "      <td>4.91</td>\n",
       "      <td>24.26</td>\n",
       "      <td>12901</td>\n",
       "      <td>7.05</td>\n",
       "    </tr>\n",
       "    <tr>\n",
       "      <th>5</th>\n",
       "      <td>2022-03-26</td>\n",
       "      <td>137902</td>\n",
       "      <td>650507</td>\n",
       "      <td>21.20</td>\n",
       "      <td>18882</td>\n",
       "      <td>2777</td>\n",
       "      <td>344</td>\n",
       "      <td>788409</td>\n",
       "      <td>7.30</td>\n",
       "      <td>34.45</td>\n",
       "      <td>12899</td>\n",
       "      <td>4.64</td>\n",
       "    </tr>\n",
       "    <tr>\n",
       "      <th>6</th>\n",
       "      <td>2022-03-27</td>\n",
       "      <td>160796</td>\n",
       "      <td>739655</td>\n",
       "      <td>21.74</td>\n",
       "      <td>18727</td>\n",
       "      <td>1931</td>\n",
       "      <td>209</td>\n",
       "      <td>900451</td>\n",
       "      <td>8.59</td>\n",
       "      <td>39.50</td>\n",
       "      <td>12900</td>\n",
       "      <td>6.68</td>\n",
       "    </tr>\n",
       "  </tbody>\n",
       "</table>\n",
       "</div>"
      ],
      "text/plain": [
       "        date   likes   views  CTR_%  DAU_FEED  DAU_MESS  DAU_FEEDandMEES  \\\n",
       "0 2022-03-21  145441  662836  21.94     19540      2639              347   \n",
       "1 2022-03-22  143682  660814  21.74     19702      3747              485   \n",
       "2 2022-03-23  120339  589754  20.40     19717      2712              353   \n",
       "3 2022-03-24   92449  471127  19.62     19741      1878              231   \n",
       "4 2022-03-25   96204  474993  20.25     19583      1831              237   \n",
       "5 2022-03-26  137902  650507  21.20     18882      2777              344   \n",
       "6 2022-03-27  160796  739655  21.74     18727      1931              209   \n",
       "\n",
       "   actions   LPU    VPU  message   MPU  \n",
       "0   808277  7.44  33.92    12900  4.89  \n",
       "1   804496  7.29  33.54    32259  8.61  \n",
       "2   710093  6.10  29.91    12879  4.75  \n",
       "3   563576  4.68  23.87    12900  6.87  \n",
       "4   571197  4.91  24.26    12901  7.05  \n",
       "5   788409  7.30  34.45    12899  4.64  \n",
       "6   900451  8.59  39.50    12900  6.68  "
      ]
     },
     "execution_count": 55,
     "metadata": {},
     "output_type": "execute_result"
    }
   ],
   "source": [
    "report_metrics\n"
   ]
  },
  {
   "cell_type": "code",
   "execution_count": 56,
   "id": "18801ee5-6084-4539-ba4a-bbb9f2c5403f",
   "metadata": {},
   "outputs": [],
   "source": [
    "value_metrics = invers_report_metrics.iloc[[0,1,-1], 4:].T.values\n",
    "name_metrics  = report_metrics.iloc[:, 4:].columns.values\n",
    "col_Labels = ['yesterday','1 day ago','1 week ago']"
   ]
  },
  {
   "cell_type": "code",
   "execution_count": 69,
   "id": "e3830290-ca7a-4eb4-af7a-764606c98a80",
   "metadata": {},
   "outputs": [
    {
     "data": {
      "text/plain": [
       "'DAU_FEED'"
      ]
     },
     "execution_count": 69,
     "metadata": {},
     "output_type": "execute_result"
    }
   ],
   "source": []
  },
  {
   "cell_type": "code",
   "execution_count": 58,
   "id": "7f3ea3c4-0461-4d4c-a106-08b321e6b656",
   "metadata": {},
   "outputs": [
    {
     "data": {
      "text/plain": [
       "<telegram.message.Message at 0x7fe26c058c40>"
      ]
     },
     "execution_count": 58,
     "metadata": {},
     "output_type": "execute_result"
    }
   ],
   "source": [
    "# send message to telegram\n",
    "message = 'Отчет за {v0} по значениям продуктовых метрик по ленте новостей и сообщениям. \\nТакже добавлены данные на день и неделю раньше, в процентном отношении от вчерашней даты.'\\\n",
    "        .format(v0 = invers_report_metrics.values[0][0])\n",
    "message = message + '\\nСсылка на основной дашборд <a href=\\\"https://superset.lab.karpov.courses/superset/dashboard/519/\\\">Лента новостей и сообщений</a>.'\n",
    "bot.sendMessage(chat_id=chat_id, text=message, parse_mode = 'HTML')"
   ]
  },
  {
   "cell_type": "code",
   "execution_count": 59,
   "id": "aff91c4c-3304-42e9-bc31-bca1b88b81b8",
   "metadata": {},
   "outputs": [
    {
     "data": {
      "text/plain": [
       "<telegram.message.Message at 0x7fe270158040>"
      ]
     },
     "execution_count": 59,
     "metadata": {},
     "output_type": "execute_result"
    }
   ],
   "source": [
    "sns.set(rc={'figure.figsize':(10,8), 'axes.titlesize':16, 'axes.labelsize':14, 'xtick.labelsize':12, 'ytick.labelsize':12,'axes.titlepad': 30 })\n",
    "#создаем таблицу\n",
    "fig, ax = plt.subplots() \n",
    "\n",
    "plt.title('Таблица значений продуктовых метрик.')\n",
    "table = ax.table( \n",
    "    cellText = value_metrics,  \n",
    "    rowLabels = name_metrics,  \n",
    "    colLabels = col_Labels, \n",
    "    rowColours =[\"steelblue\"] * 10,  \n",
    "    colColours =[\"steelblue\"] * 10, \n",
    "    cellLoc ='center',  \n",
    "    loc=\"center\") \n",
    "#bbox = [0.2, 0.4, 0.4, 0.02]\n",
    "#настройка размера ячеек\n",
    "ax.axis(\"off\") \n",
    "table.auto_set_font_size(False)\n",
    "table.set_fontsize(15) \n",
    "table.auto_set_column_width(col=list(range(len(report_metrics.columns))))\n",
    "\n",
    "for row in range(1, len(name_metrics)+1):\n",
    "    cell = table[row, -1]\n",
    "    cell.set_height(0.1)\n",
    "for col in range(0, len(col_Labels)):\n",
    "    for row in range(0, len(name_metrics)+1):\n",
    "        cell = table[row, col]\n",
    "        cell.set_height(0.1)\n",
    "plot_object = io.BytesIO()\n",
    "plt.savefig(plot_object)\n",
    "plot_object.seek(0)\n",
    "plot_object.name = 'Table_metrics.png'\n",
    "plt.close()\n",
    "bot.sendPhoto(chat_id=chat_id, photo=plot_object)"
   ]
  },
  {
   "cell_type": "code",
   "execution_count": null,
   "id": "a7798160-1a13-4c72-930a-e23e92c35ac9",
   "metadata": {},
   "outputs": [],
   "source": []
  },
  {
   "cell_type": "code",
   "execution_count": 68,
   "id": "4446f4c8-b9a4-4ca2-9210-167bcf53fc0a",
   "metadata": {},
   "outputs": [
    {
     "data": {
      "text/plain": [
       "<telegram.message.Message at 0x7fe270158440>"
      ]
     },
     "execution_count": 68,
     "metadata": {},
     "output_type": "execute_result"
    }
   ],
   "source": [
    "sns.set(rc={'figure.figsize':(32, 30), 'axes.titlesize':16, 'axes.labelsize':14, 'xtick.labelsize':12, 'ytick.labelsize':12,'axes.titlepad': 30 })\n",
    "# создание и посылка группы графиков\n",
    "fig, axs = plt.subplots(4 , 2)\n",
    "number=0\n",
    "for i in range(0,len(axs)):\n",
    "    for j in range(0,len(axs)-2):\n",
    "        number+=1\n",
    "        axs[i, j].plot('date', name_metrics[number-1], data = report_metrics)\n",
    "        axs[i, j].set_title('{v}'.format(v=name_metrics[number-1]))\n",
    "#добавляет картинку в буфер для посылки        \n",
    "plot_object = io.BytesIO()\n",
    "plt.savefig(plot_object)\n",
    "plot_object.seek(0)\n",
    "plot_object.name = 'graph_metrics.png'\n",
    "plt.close()\n",
    "bot.sendPhoto(chat_id=chat_id, photo=plot_object)"
   ]
  },
  {
   "cell_type": "code",
   "execution_count": null,
   "id": "d335b33b-65e9-4797-82f3-c45335b9d607",
   "metadata": {},
   "outputs": [],
   "source": [
    "ddd"
   ]
  },
  {
   "cell_type": "code",
   "execution_count": 60,
   "id": "3553784d-65a4-4145-891d-b1e0cb43cc7f",
   "metadata": {},
   "outputs": [
    {
     "data": {
      "text/plain": [
       "<telegram.message.Message at 0x7f03e3279240>"
      ]
     },
     "execution_count": 60,
     "metadata": {},
     "output_type": "execute_result"
    }
   ],
   "source": [
    "#посылка цсв файла ДФ\n",
    "file_object = io.StringIO()\n",
    "report_metrics.to_csv(file_object)\n",
    "file_object.name = 'report_metrics.csv'\n",
    "file_object.seek(0)\n",
    "bot.sendDocument(chat_id=chat_id, document=file_object)"
   ]
  },
  {
   "cell_type": "code",
   "execution_count": 77,
   "id": "8bf6bf96-471b-4763-a637-967212f0fa72",
   "metadata": {},
   "outputs": [],
   "source": []
  },
  {
   "cell_type": "code",
   "execution_count": null,
   "id": "6f0879d5-a649-4cec-837e-1ee7643e146f",
   "metadata": {},
   "outputs": [],
   "source": []
  }
 ],
 "metadata": {
  "kernelspec": {
   "display_name": "Python 3 (ipykernel)",
   "language": "python",
   "name": "python3"
  },
  "language_info": {
   "codemirror_mode": {
    "name": "ipython",
    "version": 3
   },
   "file_extension": ".py",
   "mimetype": "text/x-python",
   "name": "python",
   "nbconvert_exporter": "python",
   "pygments_lexer": "ipython3",
   "version": "3.8.10"
  }
 },
 "nbformat": 4,
 "nbformat_minor": 5
}
