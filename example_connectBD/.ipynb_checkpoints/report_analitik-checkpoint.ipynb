{
 "cells": [
  {
   "cell_type": "code",
   "execution_count": 65,
   "id": "272c2257-2a11-453c-9f0f-a2b191466757",
   "metadata": {},
   "outputs": [],
   "source": [
    "import telegram\n",
    "import numpy as np\n",
    "import matplotlib.pyplot as plt\n",
    "import seaborn as sns\n",
    "import io\n",
    "import logging\n",
    "import pandas as pd\n",
    "import pandahouse\n",
    "import os\n",
    "import datetime as dt\n",
    "\n",
    "sns.set(rc={'figure.figsize':(19, 7), 'axes.titlesize':16, 'axes.labelsize':14, 'xtick.labelsize':12, \n",
    "            'ytick.labelsize':12,'axes.titlepad': 30 })\n",
    "\n",
    "connection = {\n",
    "    'host': 'https://clickhouse.lab.karpov.courses',\n",
    "    'password': 'dpo_python_2020',\n",
    "    'user': 'student',\n",
    "    'database': 'simulator_20220220'\n",
    "}"
   ]
  },
  {
   "cell_type": "code",
   "execution_count": 18,
   "id": "2b6a15b3-5cc1-48fa-a645-09103f3ec1e6",
   "metadata": {},
   "outputs": [
    {
     "name": "stdout",
     "output_type": "stream",
     "text": [
      "{'message': {'new_chat_photo': [], 'entities': [], 'caption_entities': [], 'date': 1647777380, 'photo': [], 'new_chat_members': [], 'group_chat_created': False, 'text': ';l;', 'supergroup_chat_created': False, 'chat': {'first_name': 'Никита', 'type': 'private', 'id': 1295860693, 'last_name': 'Иванов'}, 'delete_chat_photo': False, 'message_id': 29, 'channel_chat_created': False, 'from': {'id': 1295860693, 'last_name': 'Иванов', 'language_code': 'ru', 'is_bot': False, 'first_name': 'Никита'}}, 'update_id': 807764393}\n"
     ]
    }
   ],
   "source": [
    "bot = telegram.Bot(token = '5291500178:AAFQqAVPSG4ad90QdyE-IaZH-Ai8ow2oxFs')\n",
    "updates = bot.getUpdates()\n",
    "print(updates[-1])"
   ]
  },
  {
   "cell_type": "code",
   "execution_count": 19,
   "id": "fd706258-4e9c-4bbd-81f2-e7ae24a0929c",
   "metadata": {},
   "outputs": [],
   "source": [
    "chat_id = 1295860693"
   ]
  },
  {
   "cell_type": "code",
   "execution_count": 20,
   "id": "7623595c-a820-4546-b760-67072027d6cf",
   "metadata": {},
   "outputs": [],
   "source": [
    "q = 'SELECT toDate(time) as date, user_id, action FROM {db}.feed_actions where toDate(time) > today() -7'\n",
    "\n",
    "df = pandahouse.read_clickhouse(q, connection=connection)"
   ]
  },
  {
   "cell_type": "code",
   "execution_count": null,
   "id": "95122f98-b904-4d01-9bf0-3e6b190717b1",
   "metadata": {},
   "outputs": [],
   "source": []
  },
  {
   "cell_type": "code",
   "execution_count": 34,
   "id": "409082ee-164e-4392-8ad4-ffeb82e88dc6",
   "metadata": {},
   "outputs": [],
   "source": [
    "DAU = df.groupby('date', as_index = False).user_id.nunique().rename(columns={'user_id':'DAU'})\n",
    "Likes = df.loc[df.action == 'like'].groupby('date', as_index = False).user_id.count().rename(columns={'user_id':'likes'})\n",
    "Views = df.loc[df.action == 'view'].groupby('date', as_index = False).user_id.count().rename(columns={'user_id':'views'})"
   ]
  },
  {
   "cell_type": "code",
   "execution_count": 37,
   "id": "8ef511f6-b3f5-468f-a067-751f5dc2288c",
   "metadata": {},
   "outputs": [],
   "source": [
    "report_metrics = DAU.merge(Likes).merge(Views)"
   ]
  },
  {
   "cell_type": "code",
   "execution_count": 38,
   "id": "9e91838c-a9c5-41d9-ae01-a0c88484103b",
   "metadata": {},
   "outputs": [],
   "source": [
    "report_metrics['CTR_%'] = round(report_metrics.likes*100/report_metrics.views,2)"
   ]
  },
  {
   "cell_type": "code",
   "execution_count": 60,
   "id": "18801ee5-6084-4539-ba4a-bbb9f2c5403f",
   "metadata": {},
   "outputs": [
    {
     "data": {
      "text/html": [
       "<div>\n",
       "<style scoped>\n",
       "    .dataframe tbody tr th:only-of-type {\n",
       "        vertical-align: middle;\n",
       "    }\n",
       "\n",
       "    .dataframe tbody tr th {\n",
       "        vertical-align: top;\n",
       "    }\n",
       "\n",
       "    .dataframe thead th {\n",
       "        text-align: right;\n",
       "    }\n",
       "</style>\n",
       "<table border=\"1\" class=\"dataframe\">\n",
       "  <thead>\n",
       "    <tr style=\"text-align: right;\">\n",
       "      <th></th>\n",
       "      <th>date</th>\n",
       "      <th>DAU</th>\n",
       "      <th>likes</th>\n",
       "      <th>views</th>\n",
       "      <th>CTR_%</th>\n",
       "    </tr>\n",
       "  </thead>\n",
       "  <tbody>\n",
       "    <tr>\n",
       "      <th>0</th>\n",
       "      <td>2022-03-14</td>\n",
       "      <td>19072</td>\n",
       "      <td>119012</td>\n",
       "      <td>574585</td>\n",
       "      <td>20.71</td>\n",
       "    </tr>\n",
       "    <tr>\n",
       "      <th>1</th>\n",
       "      <td>2022-03-15</td>\n",
       "      <td>19211</td>\n",
       "      <td>135958</td>\n",
       "      <td>675874</td>\n",
       "      <td>20.12</td>\n",
       "    </tr>\n",
       "    <tr>\n",
       "      <th>2</th>\n",
       "      <td>2022-03-16</td>\n",
       "      <td>20316</td>\n",
       "      <td>113263</td>\n",
       "      <td>583467</td>\n",
       "      <td>19.41</td>\n",
       "    </tr>\n",
       "    <tr>\n",
       "      <th>3</th>\n",
       "      <td>2022-03-17</td>\n",
       "      <td>20187</td>\n",
       "      <td>100663</td>\n",
       "      <td>522682</td>\n",
       "      <td>19.26</td>\n",
       "    </tr>\n",
       "    <tr>\n",
       "      <th>4</th>\n",
       "      <td>2022-03-18</td>\n",
       "      <td>20584</td>\n",
       "      <td>97989</td>\n",
       "      <td>502954</td>\n",
       "      <td>19.48</td>\n",
       "    </tr>\n",
       "    <tr>\n",
       "      <th>5</th>\n",
       "      <td>2022-03-19</td>\n",
       "      <td>20322</td>\n",
       "      <td>123776</td>\n",
       "      <td>583300</td>\n",
       "      <td>21.22</td>\n",
       "    </tr>\n",
       "    <tr>\n",
       "      <th>6</th>\n",
       "      <td>2022-03-20</td>\n",
       "      <td>15438</td>\n",
       "      <td>80723</td>\n",
       "      <td>371075</td>\n",
       "      <td>21.75</td>\n",
       "    </tr>\n",
       "  </tbody>\n",
       "</table>\n",
       "</div>"
      ],
      "text/plain": [
       "        date    DAU   likes   views  CTR_%\n",
       "0 2022-03-14  19072  119012  574585  20.71\n",
       "1 2022-03-15  19211  135958  675874  20.12\n",
       "2 2022-03-16  20316  113263  583467  19.41\n",
       "3 2022-03-17  20187  100663  522682  19.26\n",
       "4 2022-03-18  20584   97989  502954  19.48\n",
       "5 2022-03-19  20322  123776  583300  21.22\n",
       "6 2022-03-20  15438   80723  371075  21.75"
      ]
     },
     "execution_count": 60,
     "metadata": {},
     "output_type": "execute_result"
    }
   ],
   "source": [
    "report_metrics"
   ]
  },
  {
   "cell_type": "code",
   "execution_count": 71,
   "id": "e8e91f8e-761b-4c3f-8af7-84968fcca4ea",
   "metadata": {},
   "outputs": [
    {
     "name": "stderr",
     "output_type": "stream",
     "text": [
      "/tmp/ipykernel_48/3584072339.py:1: FutureWarning: In a future version of pandas all arguments of DataFrame.drop except for the argument 'labels' will be keyword-only\n",
      "  name_metrics = report_metrics.drop('date',1).columns.values\n"
     ]
    },
    {
     "data": {
      "text/plain": [
       "<telegram.message.Message at 0x7f5a08337240>"
      ]
     },
     "execution_count": 71,
     "metadata": {},
     "output_type": "execute_result"
    }
   ],
   "source": [
    "name_metrics = report_metrics.drop('date',1).columns.values\n",
    "value_metrics = report_metrics.iloc[-2,:].values\n",
    "# send message to telegram\n",
    "message = 'Отчет за {v0} по значениям продуктовых метрик:\\n-DAU {v1},\\n-количество лайков {v2},\\n-количество просмотров {v3},\\n-CTR {v4}%.'\\\n",
    "        .format(v0 = value_metrics[0].date(), v1 = value_metrics[1], v2 = value_metrics[2], v3 = value_metrics[3], v4 = value_metrics[4])\n",
    "bot.sendMessage(chat_id=chat_id, text=message)"
   ]
  },
  {
   "cell_type": "code",
   "execution_count": 80,
   "id": "e06d0eb5-eede-4be1-ad7b-c5a6e6d5f333",
   "metadata": {},
   "outputs": [],
   "source": [
    "for metrics in name_metrics:\n",
    "    sns.lineplot(x='date', y= metrics, data = report_metrics)\n",
    "    plt.title('{v}'.format(v=metrics))\n",
    "    plot_object = io.BytesIO()\n",
    "    plt.savefig(plot_object)\n",
    "    plot_object.seek(0)\n",
    "    plot_object.name = '{v}.png'.format(v=metrics)\n",
    "    plt.close()\n",
    "    bot.sendPhoto(chat_id=chat_id, photo=plot_object)"
   ]
  },
  {
   "cell_type": "code",
   "execution_count": null,
   "id": "ed26e71b-1f96-4255-b4bc-cb9287ef481e",
   "metadata": {},
   "outputs": [],
   "source": []
  },
  {
   "cell_type": "code",
   "execution_count": 81,
   "id": "52820e72-4820-4fbd-800a-d095fb0b1e23",
   "metadata": {},
   "outputs": [
    {
     "data": {
      "text/plain": [
       "<telegram.message.Message at 0x7f5a045a6c40>"
      ]
     },
     "execution_count": 81,
     "metadata": {},
     "output_type": "execute_result"
    }
   ],
   "source": [
    "file_object = io.StringIO()\n",
    "report_metrics.to_csv(file_object)\n",
    "file_object.name = 'report_metrics.csv'\n",
    "file_object.seek(0)\n",
    "bot.sendDocument(chat_id=chat_id, document=file_object)"
   ]
  },
  {
   "cell_type": "code",
   "execution_count": null,
   "id": "4446f4c8-b9a4-4ca2-9210-167bcf53fc0a",
   "metadata": {},
   "outputs": [],
   "source": []
  },
  {
   "cell_type": "code",
   "execution_count": null,
   "id": "3553784d-65a4-4145-891d-b1e0cb43cc7f",
   "metadata": {},
   "outputs": [],
   "source": []
  },
  {
   "cell_type": "code",
   "execution_count": null,
   "id": "6843f97e-2a89-4108-a53f-5705d2872ba1",
   "metadata": {},
   "outputs": [],
   "source": []
  }
 ],
 "metadata": {
  "kernelspec": {
   "display_name": "Python 3 (ipykernel)",
   "language": "python",
   "name": "python3"
  },
  "language_info": {
   "codemirror_mode": {
    "name": "ipython",
    "version": 3
   },
   "file_extension": ".py",
   "mimetype": "text/x-python",
   "name": "python",
   "nbconvert_exporter": "python",
   "pygments_lexer": "ipython3",
   "version": "3.8.10"
  }
 },
 "nbformat": 4,
 "nbformat_minor": 5
}
