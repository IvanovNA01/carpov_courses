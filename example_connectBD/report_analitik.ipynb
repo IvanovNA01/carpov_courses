{
 "cells": [
  {
   "cell_type": "code",
   "execution_count": null,
   "id": "272c2257-2a11-453c-9f0f-a2b191466757",
   "metadata": {},
   "outputs": [],
   "source": [
    "import telegram\n",
    "import numpy as np\n",
    "import matplotlib.pyplot as plt\n",
    "import seaborn as sns\n",
    "import io\n",
    "import logging\n",
    "import pandas as pd\n",
    "import pandahouse\n",
    "import os\n",
    "\n",
    "sns.set(rc={'figure.figsize':(19, 7), 'axes.titlesize':16, 'axes.labelsize':14, 'xtick.labelsize':12, \n",
    "            'ytick.labelsize':12,'axes.titlepad': 30 })\n",
    "\n",
    "connection = {\n",
    "    'host': 'https://clickhouse.lab.karpov.courses',\n",
    "    'password': 'dpo_python_2020',\n",
    "    'user': 'student',\n",
    "    'database': 'simulator'\n",
    "}"
   ]
  },
  {
   "cell_type": "code",
   "execution_count": null,
   "id": "2b6a15b3-5cc1-48fa-a645-09103f3ec1e6",
   "metadata": {},
   "outputs": [],
   "source": [
    "bot = telegram.Bot(token = '5291500178:AAFQqAVPSG4ad90QdyE-IaZH-Ai8ow2oxFs')\n",
    "updates = bot.GetUpdates()\n",
    "print(updates[-1])"
   ]
  },
  {
   "cell_type": "code",
   "execution_count": null,
   "id": "fd706258-4e9c-4bbd-81f2-e7ae24a0929c",
   "metadata": {},
   "outputs": [],
   "source": []
  },
  {
   "cell_type": "code",
   "execution_count": null,
   "id": "7623595c-a820-4546-b760-67072027d6cf",
   "metadata": {},
   "outputs": [],
   "source": []
  },
  {
   "cell_type": "code",
   "execution_count": null,
   "id": "95122f98-b904-4d01-9bf0-3e6b190717b1",
   "metadata": {},
   "outputs": [],
   "source": []
  },
  {
   "cell_type": "code",
   "execution_count": null,
   "id": "409082ee-164e-4392-8ad4-ffeb82e88dc6",
   "metadata": {},
   "outputs": [],
   "source": []
  },
  {
   "cell_type": "code",
   "execution_count": null,
   "id": "6843f97e-2a89-4108-a53f-5705d2872ba1",
   "metadata": {},
   "outputs": [],
   "source": [
    "def test_report(chat=None):\n",
    "    chat_id = chat or 454623234\n",
    "    bot = telegram.Bot(token='1987162789:AAFgHNqBv-v5VXPQcS0btoxtXECUvw8akMs')\n",
    "\n",
    "    msg = 'Hello'\n",
    "    bot.sendMessage(chat_id=chat_id, text=msg)\n",
    "\n",
    "    x = np.arange(1, 10, 1)\n",
    "    y = np.random.choice(5, len(x))\n",
    "    sns.lineplot(x, y)\n",
    "    plt.title('test plot')\n",
    "    plot_object = io.BytesIO()\n",
    "    plt.savefig(plot_object)\n",
    "    plot_object.seek(0)\n",
    "    plot_object.name = 'test_plot.png'\n",
    "    plt.close()\n",
    "    bot.sendPhoto(chat_id=chat_id, photo=plot_object)\n",
    "\n",
    "    data = Getch('select * from simulator.feed_actions where toDate(time) = today() limit 100').df\n",
    "    file_object = io.StringIO()\n",
    "    data.to_csv(file_object)\n",
    "    file_object.name = 'test_file.csv'\n",
    "    file_object.seek(0)\n",
    "    bot.sendDocument(chat_id=chat_id, document=file_object)\n",
    "\n",
    "\n",
    "try:\n",
    "    test_report()\n",
    "except Exception as e:\n",
    "    print(e)"
   ]
  }
 ],
 "metadata": {
  "kernelspec": {
   "display_name": "Python 3 (ipykernel)",
   "language": "python",
   "name": "python3"
  },
  "language_info": {
   "codemirror_mode": {
    "name": "ipython",
    "version": 3
   },
   "file_extension": ".py",
   "mimetype": "text/x-python",
   "name": "python",
   "nbconvert_exporter": "python",
   "pygments_lexer": "ipython3",
   "version": "3.8.10"
  }
 },
 "nbformat": 4,
 "nbformat_minor": 5
}
