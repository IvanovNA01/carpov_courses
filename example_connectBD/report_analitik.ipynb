{
 "cells": [
  {
   "cell_type": "code",
   "execution_count": 14,
   "id": "272c2257-2a11-453c-9f0f-a2b191466757",
   "metadata": {},
   "outputs": [],
   "source": [
    "import telegram\n",
    "import numpy as np\n",
    "import matplotlib.pyplot as plt\n",
    "import seaborn as sns\n",
    "import io\n",
    "import logging\n",
    "import pandas as pd\n",
    "import pandahouse\n",
    "import os\n",
    "import datetime as dt\n",
    "\n",
    "sns.set(rc={'figure.figsize':(18, 12), 'axes.titlesize':16, 'axes.labelsize':14, 'xtick.labelsize':12, \n",
    "            'ytick.labelsize':12,'axes.titlepad': 30 })\n",
    "\n",
    "connection = {\n",
    "    'host': 'https://clickhouse.lab.karpov.courses',\n",
    "    'password': 'dpo_python_2020',\n",
    "    'user': 'student',\n",
    "    'database': 'simulator_20220220'\n",
    "}"
   ]
  },
  {
   "cell_type": "code",
   "execution_count": 5,
   "id": "2b6a15b3-5cc1-48fa-a645-09103f3ec1e6",
   "metadata": {},
   "outputs": [],
   "source": [
    "bot = telegram.Bot(token = '5291500178:AAFQqAVPSG4ad90QdyE-IaZH-Ai8ow2oxFs')\n",
    "#updates = bot.getUpdates()\n",
    "#print(updates[-1])"
   ]
  },
  {
   "cell_type": "code",
   "execution_count": 6,
   "id": "fd706258-4e9c-4bbd-81f2-e7ae24a0929c",
   "metadata": {},
   "outputs": [],
   "source": [
    "#chat_id = 1295860693\n",
    "chat_id = -1001735251250"
   ]
  },
  {
   "cell_type": "code",
   "execution_count": 7,
   "id": "7623595c-a820-4546-b760-67072027d6cf",
   "metadata": {},
   "outputs": [],
   "source": [
    "q = 'select toDate(time) as date, user_id, action  from simulator_20220220.feed_actions where toDate(time) > today() -7'\n",
    "\n",
    "df_feed = pandahouse.read_clickhouse(q, connection=connection)"
   ]
  },
  {
   "cell_type": "code",
   "execution_count": 8,
   "id": "95122f98-b904-4d01-9bf0-3e6b190717b1",
   "metadata": {},
   "outputs": [],
   "source": [
    "q = 'select toDate(time) as date, user_id, reciever_id  from simulator_20220220.message_actions where toDate(time) > today() -7'\n",
    "\n",
    "df_mess = pandahouse.read_clickhouse(q, connection=connection)"
   ]
  },
  {
   "cell_type": "code",
   "execution_count": 6,
   "id": "2743282b-8a7b-4b7c-ad97-356b0f5649d4",
   "metadata": {},
   "outputs": [
    {
     "data": {
      "text/html": [
       "<div>\n",
       "<style scoped>\n",
       "    .dataframe tbody tr th:only-of-type {\n",
       "        vertical-align: middle;\n",
       "    }\n",
       "\n",
       "    .dataframe tbody tr th {\n",
       "        vertical-align: top;\n",
       "    }\n",
       "\n",
       "    .dataframe thead th {\n",
       "        text-align: right;\n",
       "    }\n",
       "</style>\n",
       "<table border=\"1\" class=\"dataframe\">\n",
       "  <thead>\n",
       "    <tr style=\"text-align: right;\">\n",
       "      <th></th>\n",
       "      <th>date</th>\n",
       "      <th>user_id</th>\n",
       "      <th>action</th>\n",
       "    </tr>\n",
       "  </thead>\n",
       "  <tbody>\n",
       "    <tr>\n",
       "      <th>0</th>\n",
       "      <td>2022-03-22</td>\n",
       "      <td>63830</td>\n",
       "      <td>view</td>\n",
       "    </tr>\n",
       "    <tr>\n",
       "      <th>1</th>\n",
       "      <td>2022-03-22</td>\n",
       "      <td>126860</td>\n",
       "      <td>view</td>\n",
       "    </tr>\n",
       "    <tr>\n",
       "      <th>2</th>\n",
       "      <td>2022-03-22</td>\n",
       "      <td>128603</td>\n",
       "      <td>view</td>\n",
       "    </tr>\n",
       "    <tr>\n",
       "      <th>3</th>\n",
       "      <td>2022-03-22</td>\n",
       "      <td>130058</td>\n",
       "      <td>view</td>\n",
       "    </tr>\n",
       "    <tr>\n",
       "      <th>4</th>\n",
       "      <td>2022-03-22</td>\n",
       "      <td>147928</td>\n",
       "      <td>view</td>\n",
       "    </tr>\n",
       "    <tr>\n",
       "      <th>...</th>\n",
       "      <td>...</td>\n",
       "      <td>...</td>\n",
       "      <td>...</td>\n",
       "    </tr>\n",
       "    <tr>\n",
       "      <th>4668025</th>\n",
       "      <td>2022-03-22</td>\n",
       "      <td>72057</td>\n",
       "      <td>view</td>\n",
       "    </tr>\n",
       "    <tr>\n",
       "      <th>4668026</th>\n",
       "      <td>2022-03-22</td>\n",
       "      <td>110502</td>\n",
       "      <td>like</td>\n",
       "    </tr>\n",
       "    <tr>\n",
       "      <th>4668027</th>\n",
       "      <td>2022-03-22</td>\n",
       "      <td>148419</td>\n",
       "      <td>view</td>\n",
       "    </tr>\n",
       "    <tr>\n",
       "      <th>4668028</th>\n",
       "      <td>2022-03-22</td>\n",
       "      <td>150648</td>\n",
       "      <td>view</td>\n",
       "    </tr>\n",
       "    <tr>\n",
       "      <th>4668029</th>\n",
       "      <td>2022-03-22</td>\n",
       "      <td>159082</td>\n",
       "      <td>view</td>\n",
       "    </tr>\n",
       "  </tbody>\n",
       "</table>\n",
       "<p>4668030 rows × 3 columns</p>\n",
       "</div>"
      ],
      "text/plain": [
       "              date  user_id action\n",
       "0       2022-03-22    63830   view\n",
       "1       2022-03-22   126860   view\n",
       "2       2022-03-22   128603   view\n",
       "3       2022-03-22   130058   view\n",
       "4       2022-03-22   147928   view\n",
       "...            ...      ...    ...\n",
       "4668025 2022-03-22    72057   view\n",
       "4668026 2022-03-22   110502   like\n",
       "4668027 2022-03-22   148419   view\n",
       "4668028 2022-03-22   150648   view\n",
       "4668029 2022-03-22   159082   view\n",
       "\n",
       "[4668030 rows x 3 columns]"
      ]
     },
     "execution_count": 6,
     "metadata": {},
     "output_type": "execute_result"
    }
   ],
   "source": [
    "df_feed"
   ]
  },
  {
   "cell_type": "code",
   "execution_count": 7,
   "id": "888ddf48-0b4b-4c7e-98af-c0c1f2b8a00e",
   "metadata": {},
   "outputs": [
    {
     "data": {
      "text/html": [
       "<div>\n",
       "<style scoped>\n",
       "    .dataframe tbody tr th:only-of-type {\n",
       "        vertical-align: middle;\n",
       "    }\n",
       "\n",
       "    .dataframe tbody tr th {\n",
       "        vertical-align: top;\n",
       "    }\n",
       "\n",
       "    .dataframe thead th {\n",
       "        text-align: right;\n",
       "    }\n",
       "</style>\n",
       "<table border=\"1\" class=\"dataframe\">\n",
       "  <thead>\n",
       "    <tr style=\"text-align: right;\">\n",
       "      <th></th>\n",
       "      <th>date</th>\n",
       "      <th>user_id</th>\n",
       "      <th>reciever_id</th>\n",
       "    </tr>\n",
       "  </thead>\n",
       "  <tbody>\n",
       "    <tr>\n",
       "      <th>0</th>\n",
       "      <td>2022-03-23</td>\n",
       "      <td>13116</td>\n",
       "      <td>17622</td>\n",
       "    </tr>\n",
       "    <tr>\n",
       "      <th>1</th>\n",
       "      <td>2022-03-23</td>\n",
       "      <td>19598</td>\n",
       "      <td>120551</td>\n",
       "    </tr>\n",
       "    <tr>\n",
       "      <th>2</th>\n",
       "      <td>2022-03-23</td>\n",
       "      <td>114604</td>\n",
       "      <td>17622</td>\n",
       "    </tr>\n",
       "    <tr>\n",
       "      <th>3</th>\n",
       "      <td>2022-03-23</td>\n",
       "      <td>123681</td>\n",
       "      <td>110894</td>\n",
       "    </tr>\n",
       "    <tr>\n",
       "      <th>4</th>\n",
       "      <td>2022-03-23</td>\n",
       "      <td>123681</td>\n",
       "      <td>118611</td>\n",
       "    </tr>\n",
       "    <tr>\n",
       "      <th>...</th>\n",
       "      <td>...</td>\n",
       "      <td>...</td>\n",
       "      <td>...</td>\n",
       "    </tr>\n",
       "    <tr>\n",
       "      <th>102883</th>\n",
       "      <td>2022-03-25</td>\n",
       "      <td>116583</td>\n",
       "      <td>116257</td>\n",
       "    </tr>\n",
       "    <tr>\n",
       "      <th>102884</th>\n",
       "      <td>2022-03-25</td>\n",
       "      <td>118249</td>\n",
       "      <td>122627</td>\n",
       "    </tr>\n",
       "    <tr>\n",
       "      <th>102885</th>\n",
       "      <td>2022-03-25</td>\n",
       "      <td>118891</td>\n",
       "      <td>112713</td>\n",
       "    </tr>\n",
       "    <tr>\n",
       "      <th>102886</th>\n",
       "      <td>2022-03-25</td>\n",
       "      <td>123964</td>\n",
       "      <td>18528</td>\n",
       "    </tr>\n",
       "    <tr>\n",
       "      <th>102887</th>\n",
       "      <td>2022-03-25</td>\n",
       "      <td>121997</td>\n",
       "      <td>116257</td>\n",
       "    </tr>\n",
       "  </tbody>\n",
       "</table>\n",
       "<p>102888 rows × 3 columns</p>\n",
       "</div>"
      ],
      "text/plain": [
       "             date  user_id  reciever_id\n",
       "0      2022-03-23    13116        17622\n",
       "1      2022-03-23    19598       120551\n",
       "2      2022-03-23   114604        17622\n",
       "3      2022-03-23   123681       110894\n",
       "4      2022-03-23   123681       118611\n",
       "...           ...      ...          ...\n",
       "102883 2022-03-25   116583       116257\n",
       "102884 2022-03-25   118249       122627\n",
       "102885 2022-03-25   118891       112713\n",
       "102886 2022-03-25   123964        18528\n",
       "102887 2022-03-25   121997       116257\n",
       "\n",
       "[102888 rows x 3 columns]"
      ]
     },
     "execution_count": 7,
     "metadata": {},
     "output_type": "execute_result"
    }
   ],
   "source": [
    "df_mess"
   ]
  },
  {
   "cell_type": "code",
   "execution_count": null,
   "id": "e4f5d3c4-c506-4732-9114-4217c53fa26d",
   "metadata": {},
   "outputs": [],
   "source": [
    "#!!! REPORT TO FEED !!!"
   ]
  },
  {
   "cell_type": "code",
   "execution_count": 9,
   "id": "409082ee-164e-4392-8ad4-ffeb82e88dc6",
   "metadata": {},
   "outputs": [],
   "source": [
    "DAU = df_feed.groupby('date', as_index = False).user_id.nunique().rename(columns={'user_id':'DAU'})\n",
    "Likes = df_feed.loc[df_feed.action == 'like'].groupby('date', as_index = False).user_id.count().rename(columns={'user_id':'likes'})\n",
    "Views = df_feed.loc[df_feed.action == 'view'].groupby('date', as_index = False).user_id.count().rename(columns={'user_id':'views'})"
   ]
  },
  {
   "cell_type": "code",
   "execution_count": 10,
   "id": "8ef511f6-b3f5-468f-a067-751f5dc2288c",
   "metadata": {},
   "outputs": [],
   "source": [
    "report_metrics = DAU.merge(Likes).merge(Views)"
   ]
  },
  {
   "cell_type": "code",
   "execution_count": 11,
   "id": "9e91838c-a9c5-41d9-ae01-a0c88484103b",
   "metadata": {},
   "outputs": [],
   "source": [
    "report_metrics['CTR_%'] = round(report_metrics.likes*100/report_metrics.views,2)"
   ]
  },
  {
   "cell_type": "code",
   "execution_count": 11,
   "id": "82386457-59a9-41ce-aa77-474ad565335d",
   "metadata": {},
   "outputs": [
    {
     "data": {
      "text/html": [
       "<div>\n",
       "<style scoped>\n",
       "    .dataframe tbody tr th:only-of-type {\n",
       "        vertical-align: middle;\n",
       "    }\n",
       "\n",
       "    .dataframe tbody tr th {\n",
       "        vertical-align: top;\n",
       "    }\n",
       "\n",
       "    .dataframe thead th {\n",
       "        text-align: right;\n",
       "    }\n",
       "</style>\n",
       "<table border=\"1\" class=\"dataframe\">\n",
       "  <thead>\n",
       "    <tr style=\"text-align: right;\">\n",
       "      <th></th>\n",
       "      <th>date</th>\n",
       "      <th>DAU</th>\n",
       "      <th>likes</th>\n",
       "      <th>views</th>\n",
       "      <th>CTR_%</th>\n",
       "    </tr>\n",
       "  </thead>\n",
       "  <tbody>\n",
       "    <tr>\n",
       "      <th>6</th>\n",
       "      <td>2022-03-25</td>\n",
       "      <td>13847</td>\n",
       "      <td>40290</td>\n",
       "      <td>204668</td>\n",
       "      <td>19.69</td>\n",
       "    </tr>\n",
       "    <tr>\n",
       "      <th>5</th>\n",
       "      <td>2022-03-24</td>\n",
       "      <td>19741</td>\n",
       "      <td>92449</td>\n",
       "      <td>471127</td>\n",
       "      <td>19.62</td>\n",
       "    </tr>\n",
       "    <tr>\n",
       "      <th>4</th>\n",
       "      <td>2022-03-23</td>\n",
       "      <td>19717</td>\n",
       "      <td>120339</td>\n",
       "      <td>589754</td>\n",
       "      <td>20.40</td>\n",
       "    </tr>\n",
       "    <tr>\n",
       "      <th>3</th>\n",
       "      <td>2022-03-22</td>\n",
       "      <td>19702</td>\n",
       "      <td>143682</td>\n",
       "      <td>660814</td>\n",
       "      <td>21.74</td>\n",
       "    </tr>\n",
       "    <tr>\n",
       "      <th>2</th>\n",
       "      <td>2022-03-21</td>\n",
       "      <td>19540</td>\n",
       "      <td>145441</td>\n",
       "      <td>662836</td>\n",
       "      <td>21.94</td>\n",
       "    </tr>\n",
       "    <tr>\n",
       "      <th>1</th>\n",
       "      <td>2022-03-20</td>\n",
       "      <td>19838</td>\n",
       "      <td>147098</td>\n",
       "      <td>682456</td>\n",
       "      <td>21.55</td>\n",
       "    </tr>\n",
       "    <tr>\n",
       "      <th>0</th>\n",
       "      <td>2022-03-19</td>\n",
       "      <td>20322</td>\n",
       "      <td>123776</td>\n",
       "      <td>583300</td>\n",
       "      <td>21.22</td>\n",
       "    </tr>\n",
       "  </tbody>\n",
       "</table>\n",
       "</div>"
      ],
      "text/plain": [
       "        date    DAU   likes   views  CTR_%\n",
       "6 2022-03-25  13847   40290  204668  19.69\n",
       "5 2022-03-24  19741   92449  471127  19.62\n",
       "4 2022-03-23  19717  120339  589754  20.40\n",
       "3 2022-03-22  19702  143682  660814  21.74\n",
       "2 2022-03-21  19540  145441  662836  21.94\n",
       "1 2022-03-20  19838  147098  682456  21.55\n",
       "0 2022-03-19  20322  123776  583300  21.22"
      ]
     },
     "execution_count": 11,
     "metadata": {},
     "output_type": "execute_result"
    }
   ],
   "source": [
    "report_metrics.sort_values('date', ascending=False)"
   ]
  },
  {
   "cell_type": "code",
   "execution_count": 12,
   "id": "18801ee5-6084-4539-ba4a-bbb9f2c5403f",
   "metadata": {},
   "outputs": [
    {
     "name": "stderr",
     "output_type": "stream",
     "text": [
      "/tmp/ipykernel_65/873685053.py:1: FutureWarning: In a future version of pandas all arguments of DataFrame.drop except for the argument 'labels' will be keyword-only\n",
      "  value_metrics = report_metrics.sort_values('date', ascending=False).drop([1,2,3,4],0).values\n"
     ]
    }
   ],
   "source": [
    "value_metrics = report_metrics.sort_values('date', ascending=False).drop([1,2,3,4],0).values\n",
    "name_metrics = report_metrics.columns.values\n",
    "row_Labels = ['today','1 day ago','1 week ago']"
   ]
  },
  {
   "cell_type": "code",
   "execution_count": 14,
   "id": "7f3ea3c4-0461-4d4c-a106-08b321e6b656",
   "metadata": {},
   "outputs": [
    {
     "data": {
      "text/plain": [
       "array([[Timestamp('2022-03-25 00:00:00'), 13847, 40290, 204668, 19.69],\n",
       "       [Timestamp('2022-03-24 00:00:00'), 19741, 92449, 471127, 19.62],\n",
       "       [Timestamp('2022-03-19 00:00:00'), 20322, 123776, 583300, 21.22]],\n",
       "      dtype=object)"
      ]
     },
     "execution_count": 14,
     "metadata": {},
     "output_type": "execute_result"
    }
   ],
   "source": [
    "value_metrics"
   ]
  },
  {
   "cell_type": "code",
   "execution_count": 35,
   "id": "aff91c4c-3304-42e9-bc31-bca1b88b81b8",
   "metadata": {},
   "outputs": [
    {
     "data": {
      "image/png": "[encoded data removed]",
      "text/plain": [
       "<Figure size 1296x864 with 1 Axes>"
      ]
     },
     "metadata": {},
     "output_type": "display_data"
    }
   ],
   "source": [
    "fig, ax = plt.subplots() \n",
    "#ax.set_axis_off() \n",
    "table = ax.table( \n",
    "    cellText = value_metrics,  \n",
    "    rowLabels = row_Labels,  \n",
    "    colLabels = name_metrics, \n",
    "    rowColours =[\"steelblue\"] * 10,  \n",
    "    colColours =[\"steelblue\"] * 10, \n",
    "    cellLoc ='center',  \n",
    "    loc ='upper left') \n",
    "ax.axis(\"off\") \n",
    "table.auto_set_font_size(False)\n",
    "table.set_fontsize(15) \n",
    "table.auto_set_column_width(col=list(range(len(report_metrics.columns))))\n",
    "for row in range(1, len(row_Labels)+1):\n",
    "    cell = table[row, -1]\n",
    "    cell.set_height(0.1)\n",
    "for col in range(0, len(name_metrics)):\n",
    "    for row in range(0, len(row_Labels)+1):\n",
    "        cell = table[row, col]\n",
    "        cell.set_height(0.1)\n"
   ]
  },
  {
   "cell_type": "code",
   "execution_count": null,
   "id": "eec598c0-a0c6-4e4d-864b-c83643ff03c3",
   "metadata": {},
   "outputs": [],
   "source": []
  },
  {
   "cell_type": "code",
   "execution_count": 10,
   "id": "e8e91f8e-761b-4c3f-8af7-84968fcca4ea",
   "metadata": {},
   "outputs": [
    {
     "name": "stderr",
     "output_type": "stream",
     "text": [
      "/tmp/ipykernel_45/3584072339.py:1: FutureWarning: In a future version of pandas all arguments of DataFrame.drop except for the argument 'labels' will be keyword-only\n",
      "  name_metrics = report_metrics.drop('date',1).columns.values\n"
     ]
    },
    {
     "data": {
      "text/plain": [
       "<telegram.message.Message at 0x7f4625e57040>"
      ]
     },
     "execution_count": 10,
     "metadata": {},
     "output_type": "execute_result"
    }
   ],
   "source": [
    "name_metrics = report_metrics.drop('date',1).columns.values\n",
    "value_metrics = report_metrics.iloc[-2,:].values\n",
    "# send message to telegram\n",
    "message = 'Отчет за {v0} по значениям продуктовых метрик:\\n-DAU {v1},\\n-количество лайков {v2},\\n-количество просмотров {v3},\\n-CTR {v4}%.'\\\n",
    "        .format(v0 = value_metrics[0].date(), v1 = value_metrics[1], v2 = value_metrics[2], v3 = value_metrics[3], v4 = value_metrics[4])\n",
    "bot.sendMessage(chat_id=chat_id, text=message)"
   ]
  },
  {
   "cell_type": "code",
   "execution_count": 11,
   "id": "e06d0eb5-eede-4be1-ad7b-c5a6e6d5f333",
   "metadata": {},
   "outputs": [],
   "source": [
    "for metrics in name_metrics:\n",
    "    sns.lineplot(x='date', y= metrics, data = report_metrics)\n",
    "    plt.title('{v}'.format(v=metrics))\n",
    "    plot_object = io.BytesIO()\n",
    "    plt.savefig(plot_object)\n",
    "    plot_object.seek(0)\n",
    "    plot_object.name = '{v}.png'.format(v=metrics)\n",
    "    plt.close()\n",
    "    bot.sendPhoto(chat_id=chat_id, photo=plot_object)"
   ]
  },
  {
   "cell_type": "code",
   "execution_count": null,
   "id": "ed26e71b-1f96-4255-b4bc-cb9287ef481e",
   "metadata": {},
   "outputs": [],
   "source": []
  },
  {
   "cell_type": "code",
   "execution_count": 12,
   "id": "52820e72-4820-4fbd-800a-d095fb0b1e23",
   "metadata": {},
   "outputs": [
    {
     "data": {
      "text/plain": [
       "<telegram.message.Message at 0x7f4625ceba40>"
      ]
     },
     "execution_count": 12,
     "metadata": {},
     "output_type": "execute_result"
    }
   ],
   "source": [
    "file_object = io.StringIO()\n",
    "report_metrics.to_csv(file_object)\n",
    "file_object.name = 'report_metrics.csv'\n",
    "file_object.seek(0)\n",
    "bot.sendDocument(chat_id=chat_id, document=file_object)"
   ]
  },
  {
   "cell_type": "code",
   "execution_count": 4,
   "id": "4446f4c8-b9a4-4ca2-9210-167bcf53fc0a",
   "metadata": {},
   "outputs": [
    {
     "data": {
      "text/plain": [
       "<matplotlib.collections.PathCollection at 0x7f716499cf40>"
      ]
     },
     "execution_count": 4,
     "metadata": {},
     "output_type": "execute_result"
    },
    {
     "data": {
      "image/png": "[encoded data removed]",
      "text/plain": [
       "<Figure size 1368x504 with 4 Axes>"
      ]
     },
     "metadata": {},
     "output_type": "display_data"
    }
   ],
   "source": [
    "# First create some toy data:\n",
    "x = np.linspace(0, 2*np.pi, 400)\n",
    "y = np.sin(x**2)\n",
    "\n",
    "# Create four polar axes and access them through the returned array\n",
    "fig, axs = plt.subplots(2, 2)\n",
    "axs[0, 0].plot(x, y)\n",
    "axs[1, 1].scatter(x, y)"
   ]
  },
  {
   "cell_type": "code",
   "execution_count": null,
   "id": "3553784d-65a4-4145-891d-b1e0cb43cc7f",
   "metadata": {},
   "outputs": [],
   "source": []
  },
  {
   "cell_type": "code",
   "execution_count": null,
   "id": "6843f97e-2a89-4108-a53f-5705d2872ba1",
   "metadata": {},
   "outputs": [],
   "source": []
  }
 ],
 "metadata": {
  "kernelspec": {
   "display_name": "Python 3 (ipykernel)",
   "language": "python",
   "name": "python3"
  },
  "language_info": {
   "codemirror_mode": {
    "name": "ipython",
    "version": 3
   },
   "file_extension": ".py",
   "mimetype": "text/x-python",
   "name": "python",
   "nbconvert_exporter": "python",
   "pygments_lexer": "ipython3",
   "version": "3.8.10"
  }
 },
 "nbformat": 4,
 "nbformat_minor": 5
}
