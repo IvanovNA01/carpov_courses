{
 "cells": [
  {
   "cell_type": "code",
   "execution_count": 15,
   "id": "688b4fb7-c2d6-4eaa-86ea-350c9feceee5",
   "metadata": {},
   "outputs": [],
   "source": [
    "import pandahouse \n",
    "import pandas as pd\n",
    "import numpy as np\n",
    "import matplotlib.pyplot as plt\n",
    "import seaborn as sns\n",
    "from scipy import stats\n",
    "\n",
    "connection = {\n",
    "'host': 'https://clickhouse.lab.karpov.courses',\n",
    "'password': 'dpo_python_2020',\n",
    "'user': 'student',\n",
    "'database': 'simulator_20220220'\n",
    "}\n",
    "\n",
    "sns.set(rc = {'figure.figsize':(15,10)})"
   ]
  },
  {
   "cell_type": "code",
   "execution_count": 2,
   "id": "e41b0106-2f92-4144-a6b4-e0b88fd7cdd6",
   "metadata": {},
   "outputs": [],
   "source": [
    "# Task 1\n",
    "q = '''\n",
    "      Select \n",
    "          exp_group,\n",
    "          user_id,\n",
    "          countIf(user_id, action = 'like') as likes,\n",
    "          countIf(user_id, action = 'view') as views,\n",
    "          likes/views as CTR\n",
    "      from simulator_20220220.feed_actions\n",
    "      where toDate(time) >= '2022-02-06' and toDate(time) <= '2022-02-12' \n",
    "          and exp_group in (2,3)\n",
    "      group by exp_group, user_id\n",
    "     '''\n",
    "\n",
    "df_AA = pandahouse.read_clickhouse(q, connection = connection)"
   ]
  },
  {
   "cell_type": "code",
   "execution_count": 3,
   "id": "33a8b6fe-4048-43a8-b042-7f9953510781",
   "metadata": {},
   "outputs": [],
   "source": [
    "p_values = []\n",
    "for _ in range(10000):\n",
    "  p_values.append(stats.ttest_ind(df_AA[df_AA.exp_group == 2].CTR.sample(500, replace = True), \n",
    "                  df_AA[df_AA.exp_group == 3].CTR.sample(500, replace = True),\n",
    "                  equal_var = False)[1])"
   ]
  },
  {
   "cell_type": "code",
   "execution_count": 8,
   "id": "6783a229-4c15-4c57-b316-ef59951fc761",
   "metadata": {},
   "outputs": [
    {
     "data": {
      "image/png": "[encoded data removed]",
      "text/plain": [
       "<Figure size 1080x720 with 1 Axes>"
      ]
     },
     "metadata": {},
     "output_type": "display_data"
    }
   ],
   "source": [
    "\n",
    "Pvalue_distibution= sns.histplot(p_values)"
   ]
  },
  {
   "cell_type": "code",
   "execution_count": 5,
   "id": "3349452c-fe2a-4fc7-80a2-5f5ce3453c18",
   "metadata": {},
   "outputs": [],
   "source": [
    "df_p_values = pd.DataFrame({'p_values':p_values})\n",
    "procent_of_error = df_p_values[df_p_values.p_values <= 0.05].count()*100/df_p_values.count()"
   ]
  },
  {
   "cell_type": "code",
   "execution_count": 22,
   "id": "a407e7e0-8173-42e8-8544-2050ca35903e",
   "metadata": {},
   "outputs": [
    {
     "name": "stdout",
     "output_type": "stream",
     "text": [
      "Можно заметить, что p-value распределилось равномерно и в большинстве случаев значение больше 0,05 - это означает, \n",
      "что у нас нет оснований отвергать нулевую гипотезу о равенстве 2 групп. \n",
      "Вероятность того что p_value <= 0.05 составляет 5.17 %. \n",
      "АА тест прошел успешно, система сплитования работает корректно!\n"
     ]
    }
   ],
   "source": [
    "print('Можно заметить, что p-value распределилось равномерно и в большинстве случаев значение больше 0,05 - это означает, \\nчто у нас нет оснований отвергать нулевую гипотезу о равенстве 2 групп. \\nВероятность того что p_value <= 0.05 составляет {procent_of_error} %. \\nАА тест прошел успешно, система сплитования работает корректно!'.format(procent_of_error=procent_of_error.to_list()[0]))"
   ]
  },
  {
   "cell_type": "code",
   "execution_count": null,
   "id": "63b441f7-2e9e-49c9-aa20-ea63515229cb",
   "metadata": {},
   "outputs": [],
   "source": [
    "# Task 2"
   ]
  },
  {
   "cell_type": "code",
   "execution_count": 3,
   "id": "f043a5e6-ece7-4b81-83a7-9ebebd5fcc98",
   "metadata": {},
   "outputs": [],
   "source": [
    "q = '''\n",
    "      Select \n",
    "          exp_group,\n",
    "          user_id,\n",
    "          countIf(user_id, action = 'like') as likes,\n",
    "          countIf(user_id, action = 'view') as views,\n",
    "          likes/views as CTR\n",
    "      from simulator_20220220.feed_actions\n",
    "      where toDate(time) >= '2022-02-13' and toDate(time) <= '2022-02-19' \n",
    "          and exp_group in (1,2)\n",
    "      group by exp_group, user_id\n",
    "     '''\n",
    "\n",
    "df_AB = pandahouse.read_clickhouse(q, connection = connection)"
   ]
  },
  {
   "cell_type": "code",
   "execution_count": 4,
   "id": "8b4ce8a1-1509-46d7-914d-383f69ad4a04",
   "metadata": {},
   "outputs": [
    {
     "data": {
      "text/plain": [
       "Ttest_indResult(statistic=0.7094392041270486, pvalue=0.4780623130874935)"
      ]
     },
     "execution_count": 4,
     "metadata": {},
     "output_type": "execute_result"
    }
   ],
   "source": [
    "# ttest\n",
    "stats.ttest_ind(df_AB[df_AB.exp_group == 1].CTR, \n",
    "                df_AB[df_AB.exp_group == 2].CTR,\n",
    "                equal_var = False)"
   ]
  },
  {
   "cell_type": "code",
   "execution_count": 5,
   "id": "167f3980-d293-41d9-8071-52bc8c12166f",
   "metadata": {},
   "outputs": [
    {
     "data": {
      "text/plain": [
       "[0.21560459841296287, 0.21441927347479375]"
      ]
     },
     "execution_count": 5,
     "metadata": {},
     "output_type": "execute_result"
    }
   ],
   "source": [
    "''' Судя по Т-тесту группы существенно не различаются. Вероятно потому, что средние значения групп очень близки, \n",
    "    а также распределение группы 2 слишком далеко от нормальности (2 пика, длинные хвосты).'''\n",
    "[df_AB[df_AB.exp_group == 1].CTR.mean(),df_AB[df_AB.exp_group == 2].CTR.mean()]"
   ]
  },
  {
   "cell_type": "code",
   "execution_count": 16,
   "id": "aee73a6c-dac2-4080-bc90-5a2b47d72d28",
   "metadata": {},
   "outputs": [
    {
     "data": {
      "image/png": "[encoded data removed]",
      "text/plain": [
       "<Figure size 1080x720 with 1 Axes>"
      ]
     },
     "metadata": {},
     "output_type": "display_data"
    }
   ],
   "source": [
    "# visualisation\n",
    "groups = sns.histplot(data = df_AB,\n",
    "                        x='CTR',\n",
    "                        hue='exp_group',\n",
    "                        palette = ['r', 'b'],\n",
    "                        kde=False)\n",
    "# Однако на графике очевидно различие! "
   ]
  },
  {
   "cell_type": "code",
   "execution_count": 7,
   "id": "b19519ae-6a3b-464e-993f-d3571255524e",
   "metadata": {},
   "outputs": [
    {
     "data": {
      "text/plain": [
       "MannwhitneyuResult(statistic=56601260.5, pvalue=6.0376484617779035e-56)"
      ]
     },
     "execution_count": 7,
     "metadata": {},
     "output_type": "execute_result"
    }
   ],
   "source": [
    "# Manna Whitneyu test\n",
    "stats.mannwhitneyu(df_AB[df_AB.exp_group == 1].CTR, \n",
    "                    df_AB[df_AB.exp_group == 2].CTR,\n",
    "                    alternative=\"two-sided\")\n",
    "# Манна-Уитни показал четкое различие в группах."
   ]
  },
  {
   "cell_type": "code",
   "execution_count": 8,
   "id": "093f87ee-c290-4eec-93a4-ad352d6d3d08",
   "metadata": {},
   "outputs": [],
   "source": [
    "# Smoothed CTR\n",
    "Global_CTR_control = df_AB[df_AB.exp_group == 1].likes.sum()/df_AB[df_AB.exp_group == 1].views.sum()\n",
    "Global_CTR_target = df_AB[df_AB.exp_group == 2].likes.sum()/df_AB[df_AB.exp_group == 2].views.sum()"
   ]
  },
  {
   "cell_type": "code",
   "execution_count": 9,
   "id": "68f3344a-9557-4f31-b1a8-5d865dc28402",
   "metadata": {},
   "outputs": [],
   "source": [
    "def Get_Smoothed_CTR(Global_CTR,likes,views,a):\n",
    "    smoothed_CTR = (likes + a*Global_CTR)/(views + a)\n",
    "    return smoothed_CTR"
   ]
  },
  {
   "cell_type": "code",
   "execution_count": 10,
   "id": "a0eb4b1c-30eb-4110-9838-fa7f7d626553",
   "metadata": {},
   "outputs": [],
   "source": [
    "df_control = df_AB[df_AB.exp_group == 1].copy()\n",
    "df_target = df_AB[df_AB.exp_group == 2].copy()"
   ]
  },
  {
   "cell_type": "code",
   "execution_count": 8,
   "id": "0b49c8ae-020b-4c75-a64a-fed8cb37a4e5",
   "metadata": {},
   "outputs": [
    {
     "data": {
      "text/html": [
       "<div>\n",
       "<style scoped>\n",
       "    .dataframe tbody tr th:only-of-type {\n",
       "        vertical-align: middle;\n",
       "    }\n",
       "\n",
       "    .dataframe tbody tr th {\n",
       "        vertical-align: top;\n",
       "    }\n",
       "\n",
       "    .dataframe thead th {\n",
       "        text-align: right;\n",
       "    }\n",
       "</style>\n",
       "<table border=\"1\" class=\"dataframe\">\n",
       "  <thead>\n",
       "    <tr style=\"text-align: right;\">\n",
       "      <th></th>\n",
       "      <th>exp_group</th>\n",
       "      <th>user_id</th>\n",
       "      <th>likes</th>\n",
       "      <th>views</th>\n",
       "      <th>CTR</th>\n",
       "    </tr>\n",
       "  </thead>\n",
       "  <tbody>\n",
       "    <tr>\n",
       "      <th>0</th>\n",
       "      <td>1</td>\n",
       "      <td>109963</td>\n",
       "      <td>3</td>\n",
       "      <td>15</td>\n",
       "      <td>0.200000</td>\n",
       "    </tr>\n",
       "    <tr>\n",
       "      <th>1</th>\n",
       "      <td>1</td>\n",
       "      <td>26117</td>\n",
       "      <td>32</td>\n",
       "      <td>141</td>\n",
       "      <td>0.226950</td>\n",
       "    </tr>\n",
       "    <tr>\n",
       "      <th>2</th>\n",
       "      <td>1</td>\n",
       "      <td>138232</td>\n",
       "      <td>18</td>\n",
       "      <td>73</td>\n",
       "      <td>0.246575</td>\n",
       "    </tr>\n",
       "    <tr>\n",
       "      <th>3</th>\n",
       "      <td>1</td>\n",
       "      <td>26295</td>\n",
       "      <td>33</td>\n",
       "      <td>122</td>\n",
       "      <td>0.270492</td>\n",
       "    </tr>\n",
       "    <tr>\n",
       "      <th>4</th>\n",
       "      <td>1</td>\n",
       "      <td>18392</td>\n",
       "      <td>7</td>\n",
       "      <td>32</td>\n",
       "      <td>0.218750</td>\n",
       "    </tr>\n",
       "    <tr>\n",
       "      <th>...</th>\n",
       "      <td>...</td>\n",
       "      <td>...</td>\n",
       "      <td>...</td>\n",
       "      <td>...</td>\n",
       "      <td>...</td>\n",
       "    </tr>\n",
       "    <tr>\n",
       "      <th>20020</th>\n",
       "      <td>1</td>\n",
       "      <td>31540</td>\n",
       "      <td>8</td>\n",
       "      <td>45</td>\n",
       "      <td>0.177778</td>\n",
       "    </tr>\n",
       "    <tr>\n",
       "      <th>20021</th>\n",
       "      <td>1</td>\n",
       "      <td>23359</td>\n",
       "      <td>23</td>\n",
       "      <td>91</td>\n",
       "      <td>0.252747</td>\n",
       "    </tr>\n",
       "    <tr>\n",
       "      <th>20024</th>\n",
       "      <td>1</td>\n",
       "      <td>110956</td>\n",
       "      <td>3</td>\n",
       "      <td>16</td>\n",
       "      <td>0.187500</td>\n",
       "    </tr>\n",
       "    <tr>\n",
       "      <th>20026</th>\n",
       "      <td>1</td>\n",
       "      <td>132567</td>\n",
       "      <td>45</td>\n",
       "      <td>296</td>\n",
       "      <td>0.152027</td>\n",
       "    </tr>\n",
       "    <tr>\n",
       "      <th>20027</th>\n",
       "      <td>1</td>\n",
       "      <td>30872</td>\n",
       "      <td>11</td>\n",
       "      <td>59</td>\n",
       "      <td>0.186441</td>\n",
       "    </tr>\n",
       "  </tbody>\n",
       "</table>\n",
       "<p>10079 rows × 5 columns</p>\n",
       "</div>"
      ],
      "text/plain": [
       "       exp_group  user_id  likes  views       CTR\n",
       "0              1   109963      3     15  0.200000\n",
       "1              1    26117     32    141  0.226950\n",
       "2              1   138232     18     73  0.246575\n",
       "3              1    26295     33    122  0.270492\n",
       "4              1    18392      7     32  0.218750\n",
       "...          ...      ...    ...    ...       ...\n",
       "20020          1    31540      8     45  0.177778\n",
       "20021          1    23359     23     91  0.252747\n",
       "20024          1   110956      3     16  0.187500\n",
       "20026          1   132567     45    296  0.152027\n",
       "20027          1    30872     11     59  0.186441\n",
       "\n",
       "[10079 rows x 5 columns]"
      ]
     },
     "execution_count": 8,
     "metadata": {},
     "output_type": "execute_result"
    }
   ],
   "source": [
    "df_control"
   ]
  },
  {
   "cell_type": "code",
   "execution_count": 11,
   "id": "810857ce-4392-4497-b7b1-d2c3d1afff93",
   "metadata": {},
   "outputs": [],
   "source": [
    "df_control['smoothed_CTR'] = df_control.apply(lambda x: Get_Smoothed_CTR(Global_CTR_control,x.likes,x.views,5), axis = 1)\n",
    "df_target['smoothed_CTR'] = df_target.apply(lambda x: Get_Smoothed_CTR(Global_CTR_target,x.likes,x.views,5), axis = 1)"
   ]
  },
  {
   "cell_type": "code",
   "execution_count": 12,
   "id": "906af924-b821-4786-a51c-4d858abf7a21",
   "metadata": {},
   "outputs": [
    {
     "data": {
      "text/html": [
       "<div>\n",
       "<style scoped>\n",
       "    .dataframe tbody tr th:only-of-type {\n",
       "        vertical-align: middle;\n",
       "    }\n",
       "\n",
       "    .dataframe tbody tr th {\n",
       "        vertical-align: top;\n",
       "    }\n",
       "\n",
       "    .dataframe thead th {\n",
       "        text-align: right;\n",
       "    }\n",
       "</style>\n",
       "<table border=\"1\" class=\"dataframe\">\n",
       "  <thead>\n",
       "    <tr style=\"text-align: right;\">\n",
       "      <th></th>\n",
       "      <th>exp_group</th>\n",
       "      <th>user_id</th>\n",
       "      <th>likes</th>\n",
       "      <th>views</th>\n",
       "      <th>CTR</th>\n",
       "      <th>smoothed_CTR</th>\n",
       "    </tr>\n",
       "  </thead>\n",
       "  <tbody>\n",
       "    <tr>\n",
       "      <th>0</th>\n",
       "      <td>1</td>\n",
       "      <td>109963</td>\n",
       "      <td>3</td>\n",
       "      <td>15</td>\n",
       "      <td>0.200000</td>\n",
       "      <td>0.202007</td>\n",
       "    </tr>\n",
       "    <tr>\n",
       "      <th>1</th>\n",
       "      <td>1</td>\n",
       "      <td>26117</td>\n",
       "      <td>32</td>\n",
       "      <td>141</td>\n",
       "      <td>0.226950</td>\n",
       "      <td>0.226302</td>\n",
       "    </tr>\n",
       "    <tr>\n",
       "      <th>2</th>\n",
       "      <td>1</td>\n",
       "      <td>138232</td>\n",
       "      <td>18</td>\n",
       "      <td>73</td>\n",
       "      <td>0.246575</td>\n",
       "      <td>0.244104</td>\n",
       "    </tr>\n",
       "    <tr>\n",
       "      <th>3</th>\n",
       "      <td>1</td>\n",
       "      <td>26295</td>\n",
       "      <td>33</td>\n",
       "      <td>122</td>\n",
       "      <td>0.270492</td>\n",
       "      <td>0.268033</td>\n",
       "    </tr>\n",
       "    <tr>\n",
       "      <th>4</th>\n",
       "      <td>1</td>\n",
       "      <td>18392</td>\n",
       "      <td>7</td>\n",
       "      <td>32</td>\n",
       "      <td>0.218750</td>\n",
       "      <td>0.217301</td>\n",
       "    </tr>\n",
       "    <tr>\n",
       "      <th>...</th>\n",
       "      <td>...</td>\n",
       "      <td>...</td>\n",
       "      <td>...</td>\n",
       "      <td>...</td>\n",
       "      <td>...</td>\n",
       "      <td>...</td>\n",
       "    </tr>\n",
       "    <tr>\n",
       "      <th>20020</th>\n",
       "      <td>1</td>\n",
       "      <td>31540</td>\n",
       "      <td>8</td>\n",
       "      <td>45</td>\n",
       "      <td>0.177778</td>\n",
       "      <td>0.180803</td>\n",
       "    </tr>\n",
       "    <tr>\n",
       "      <th>20021</th>\n",
       "      <td>1</td>\n",
       "      <td>23359</td>\n",
       "      <td>23</td>\n",
       "      <td>91</td>\n",
       "      <td>0.252747</td>\n",
       "      <td>0.250418</td>\n",
       "    </tr>\n",
       "    <tr>\n",
       "      <th>20024</th>\n",
       "      <td>1</td>\n",
       "      <td>110956</td>\n",
       "      <td>3</td>\n",
       "      <td>16</td>\n",
       "      <td>0.187500</td>\n",
       "      <td>0.192387</td>\n",
       "    </tr>\n",
       "    <tr>\n",
       "      <th>20026</th>\n",
       "      <td>1</td>\n",
       "      <td>132567</td>\n",
       "      <td>45</td>\n",
       "      <td>296</td>\n",
       "      <td>0.152027</td>\n",
       "      <td>0.152957</td>\n",
       "    </tr>\n",
       "    <tr>\n",
       "      <th>20027</th>\n",
       "      <td>1</td>\n",
       "      <td>30872</td>\n",
       "      <td>11</td>\n",
       "      <td>59</td>\n",
       "      <td>0.186441</td>\n",
       "      <td>0.188127</td>\n",
       "    </tr>\n",
       "  </tbody>\n",
       "</table>\n",
       "<p>10079 rows × 6 columns</p>\n",
       "</div>"
      ],
      "text/plain": [
       "       exp_group  user_id  likes  views       CTR  smoothed_CTR\n",
       "0              1   109963      3     15  0.200000      0.202007\n",
       "1              1    26117     32    141  0.226950      0.226302\n",
       "2              1   138232     18     73  0.246575      0.244104\n",
       "3              1    26295     33    122  0.270492      0.268033\n",
       "4              1    18392      7     32  0.218750      0.217301\n",
       "...          ...      ...    ...    ...       ...           ...\n",
       "20020          1    31540      8     45  0.177778      0.180803\n",
       "20021          1    23359     23     91  0.252747      0.250418\n",
       "20024          1   110956      3     16  0.187500      0.192387\n",
       "20026          1   132567     45    296  0.152027      0.152957\n",
       "20027          1    30872     11     59  0.186441      0.188127\n",
       "\n",
       "[10079 rows x 6 columns]"
      ]
     },
     "execution_count": 12,
     "metadata": {},
     "output_type": "execute_result"
    }
   ],
   "source": [
    "df_control"
   ]
  },
  {
   "cell_type": "code",
   "execution_count": 13,
   "id": "e134b108-d564-4fb1-8933-34437856c06f",
   "metadata": {},
   "outputs": [
    {
     "data": {
      "text/plain": [
       "Ttest_indResult(statistic=2.2841320431616983, pvalue=0.0223769815558559)"
      ]
     },
     "execution_count": 13,
     "metadata": {},
     "output_type": "execute_result"
    }
   ],
   "source": [
    "stats.ttest_ind(df_control['smoothed_CTR'], \n",
    "                df_target['smoothed_CTR'],\n",
    "                equal_var = False)\n",
    "# Вместе со сглаженным CTR Т-тест показал различия, значит большую погрешность вносили пользователи с недбльшим количеством промотров."
   ]
  },
  {
   "cell_type": "code",
   "execution_count": 14,
   "id": "3874e3ec-e017-4436-b583-174c9e705517",
   "metadata": {},
   "outputs": [
    {
     "data": {
      "text/plain": [
       "MannwhitneyuResult(statistic=56925125.0, pvalue=1.6163964114270227e-61)"
      ]
     },
     "execution_count": 14,
     "metadata": {},
     "output_type": "execute_result"
    }
   ],
   "source": [
    "stats.mannwhitneyu(df_control['smoothed_CTR'], \n",
    "                    df_target['smoothed_CTR'],\n",
    "                    alternative=\"two-sided\")\n",
    "# Манна Уитни по прежнему точен."
   ]
  },
  {
   "cell_type": "code",
   "execution_count": 20,
   "id": "8ca97f1b-d93e-412b-ac2b-e68ea305d173",
   "metadata": {},
   "outputs": [
    {
     "data": {
      "text/plain": [
       "<AxesSubplot:xlabel='smoothed_CTR', ylabel='Count'>"
      ]
     },
     "execution_count": 20,
     "metadata": {},
     "output_type": "execute_result"
    },
    {
     "data": {
      "image/png": "[encoded data removed]",
      "text/plain": [
       "<Figure size 1080x720 with 1 Axes>"
      ]
     },
     "metadata": {},
     "output_type": "display_data"
    }
   ],
   "source": [
    "sns.histplot(df_control['smoothed_CTR'])\n",
    "sns.histplot(df_target['smoothed_CTR'])\n",
    "# Линии более сглаженные, но в целом также очевидно различие."
   ]
  },
  {
   "cell_type": "code",
   "execution_count": 27,
   "id": "8d29f145-bf5a-4a0b-8420-e42e4491c013",
   "metadata": {},
   "outputs": [],
   "source": [
    "# Бустреп Пуассона\n",
    "def bootstrap(likes1, views1, likes2, views2, n_bootstrap=2000):\n",
    "    poisson_bootstraps1 = stats.poisson(1).rvs((n_bootstrap, len(likes1))).astype(np.int64)\n",
    "    poisson_bootstraps2 = stats.poisson(1).rvs((n_bootstrap, len(likes2))).astype(np.int64)\n",
    "    globalCTR1 = (poisson_bootstraps1*likes1).sum(axis=1)/(poisson_bootstraps1*views1).sum(axis=1)\n",
    "    globalCTR2 = (poisson_bootstraps2*likes2).sum(axis=1)/(poisson_bootstraps2*views2).sum(axis=1)\n",
    "    return globalCTR1, globalCTR2"
   ]
  },
  {
   "cell_type": "code",
   "execution_count": 44,
   "id": "daf6bea0-05ef-4f90-a94f-0b92adaecca3",
   "metadata": {},
   "outputs": [],
   "source": [
    "likes1 = df_AB[df_AB.exp_group == 1].likes.to_numpy()\n",
    "views1 = df_AB[df_AB.exp_group == 1].views.to_numpy()\n",
    "likes2 = df_AB[df_AB.exp_group == 2].likes.to_numpy()\n",
    "views2 = df_AB[df_AB.exp_group == 2].views.to_numpy()\n",
    "ctr1, ctr2 = bootstrap(likes1, views1, likes2, views2)\n"
   ]
  },
  {
   "cell_type": "code",
   "execution_count": 42,
   "id": "bab2830c-e196-40b2-8e91-c2a708dece8b",
   "metadata": {},
   "outputs": [],
   "source": [
    "df_CTR1 = pd.DataFrame({'ctr':ctr1, 'exp_group': 1 })\n",
    "df_CTR2 = pd.DataFrame({'ctr':ctr2, 'exp_group': 2 })\n",
    "df_CTR = pd.concat([df_CTR1,df_CTR2])"
   ]
  },
  {
   "cell_type": "code",
   "execution_count": 43,
   "id": "a3c39b67-c251-4a23-afa1-b34c5cc512c1",
   "metadata": {},
   "outputs": [
    {
     "data": {
      "text/plain": [
       "<AxesSubplot:xlabel='ctr', ylabel='Count'>"
      ]
     },
     "execution_count": 43,
     "metadata": {},
     "output_type": "execute_result"
    },
    {
     "data": {
      "image/png": "[encoded data removed]",
      "text/plain": [
       "<Figure size 1080x720 with 1 Axes>"
      ]
     },
     "metadata": {},
     "output_type": "display_data"
    }
   ],
   "source": [
    "sns.histplot(data = df_CTR,\n",
    "                        x='ctr',\n",
    "                        hue='exp_group',\n",
    "                        palette = ['r', 'b'],\n",
    "                        kde=False)\n",
    "# Бустреп показал четкое отличие графиков CTR групп 1 и 2. Распределение CTR контрольной группы имеет большие значения чем у таргет группы."
   ]
  },
  {
   "cell_type": "code",
   "execution_count": 35,
   "id": "fd7f0a6e-40c0-47fc-b4d7-243491b972b1",
   "metadata": {},
   "outputs": [
    {
     "data": {
      "text/plain": [
       "<AxesSubplot:ylabel='Count'>"
      ]
     },
     "execution_count": 35,
     "metadata": {},
     "output_type": "execute_result"
    },
    {
     "data": {
      "image/png": "[encoded data removed]",
      "text/plain": [
       "<Figure size 1080x720 with 1 Axes>"
      ]
     },
     "metadata": {},
     "output_type": "display_data"
    }
   ],
   "source": [
    "#Разница между распределениями глобальных CTR,  меньше нуля. \n",
    "sns.histplot(ctr2 - ctr1)"
   ]
  },
  {
   "cell_type": "code",
   "execution_count": 30,
   "id": "383ae7ee-2cbc-4d86-b9ad-aaebf697a1cd",
   "metadata": {},
   "outputs": [],
   "source": [
    "# Бакет преобразование\n",
    "q = \"\"\"\n",
    "    SELECT exp_group, \n",
    "            bucket,\n",
    "            sum(likes)/sum(views) as bucket_ctr\n",
    "    FROM (SELECT exp_group,\n",
    "            xxHash64(user_id)%50 as bucket,\n",
    "            user_id,\n",
    "            sum(action = 'like') as likes,\n",
    "            sum(action = 'view') as views,\n",
    "            likes/views as ctr\n",
    "         FROM simulator_20220220.feed_actions\n",
    "         WHERE toDate(time) >= '2022-02-13' and toDate(time) <= '2022-02-19' \n",
    "            and exp_group in (1,2)\n",
    "         GROUP BY exp_group, bucket, user_id)\n",
    "    GROUP BY exp_group, bucket\n",
    "    \"\"\"\n",
    "df_bucket = pandahouse.read_clickhouse(q, connection=connection)"
   ]
  },
  {
   "cell_type": "code",
   "execution_count": 32,
   "id": "249e1738-2d22-4088-b15e-7c59da16af1c",
   "metadata": {},
   "outputs": [
    {
     "data": {
      "text/plain": [
       "MannwhitneyuResult(statistic=1995.0, pvalue=2.859963936492646e-07)"
      ]
     },
     "execution_count": 32,
     "metadata": {},
     "output_type": "execute_result"
    }
   ],
   "source": [
    "#тест Манна-Уитни вновь показал различия\n",
    "stats.mannwhitneyu(df_bucket[df_bucket.exp_group == 1].bucket_ctr,\n",
    "                    df_bucket[df_bucket.exp_group == 2].bucket_ctr,\n",
    "                    alternative = 'two-sided')\n"
   ]
  },
  {
   "cell_type": "code",
   "execution_count": 33,
   "id": "d908b59f-5992-46bc-91fa-f1401258223f",
   "metadata": {},
   "outputs": [
    {
     "data": {
      "text/plain": [
       "Ttest_indResult(statistic=5.668234732053979, pvalue=3.4455951649945907e-07)"
      ]
     },
     "execution_count": 33,
     "metadata": {},
     "output_type": "execute_result"
    }
   ],
   "source": [
    "stats.ttest_ind(df_bucket[df_bucket.exp_group == 1].bucket_ctr,\n",
    "                df_bucket[df_bucket.exp_group == 2].bucket_ctr,\n",
    "                equal_var = False)\n",
    "# Т-тест над баккетным преобразованием показал лучший результат точности среди всех т-тестов!"
   ]
  },
  {
   "cell_type": "code",
   "execution_count": null,
   "id": "2b959cf8-3a8b-47ed-87df-0ce04b62edeb",
   "metadata": {},
   "outputs": [],
   "source": [
    "''' Итого, можно заключить что АВ тесты показали существенное различие между группами, но нововведение нет смысла вводить\n",
    "    на всю генеральную совокупность, так как контрольная группа показала лучшие результаты искомой метрики.'''"
   ]
  },
  {
   "cell_type": "code",
   "execution_count": null,
   "id": "47ccc5e0-0082-4cda-8237-349514c6f627",
   "metadata": {},
   "outputs": [],
   "source": [
    "# Task 3"
   ]
  },
  {
   "cell_type": "code",
   "execution_count": null,
   "id": "205e088d-edd1-4829-83dc-157726b07c4e",
   "metadata": {},
   "outputs": [],
   "source": []
  }
 ],
 "metadata": {
  "kernelspec": {
   "display_name": "Python 3 (ipykernel)",
   "language": "python",
   "name": "python3"
  },
  "language_info": {
   "codemirror_mode": {
    "name": "ipython",
    "version": 3
   },
   "file_extension": ".py",
   "mimetype": "text/x-python",
   "name": "python",
   "nbconvert_exporter": "python",
   "pygments_lexer": "ipython3",
   "version": "3.8.10"
  }
 },
 "nbformat": 4,
 "nbformat_minor": 5
}
